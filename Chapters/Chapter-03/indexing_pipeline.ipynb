{
 "cells": [
  {
   "cell_type": "markdown",
   "metadata": {},
   "source": [
    "<a href=\"https://mng.bz/8wdg\" target=\"_blank\">\n",
    "    <img src=\"../../Assets/Images/NewMEAPHeader.png\" alt=\"New MEAP\" style=\"width: 100%;\" />\n",
    "</a>\n"
   ]
  },
  {
   "cell_type": "markdown",
   "metadata": {},
   "source": [
    "# Chapter 03 - Indexing Pipeline: Creating a Knowledge Base for RAG-based Applications"
   ]
  },
  {
   "cell_type": "markdown",
   "metadata": {},
   "source": [
    "### Welcome to chapter 3 of A Simple Introduction to Retrieval Augmented Generation. This is the first chapter of the book where we use code examples in python.\n",
    "\n",
    "In this chapter, we introduce the concepts behind the indexing pipeline that facilitates building a knowledge base for RAG enabled applications"
   ]
  },
  {
   "cell_type": "markdown",
   "metadata": {},
   "source": [
    "The example that we have been following is to ask the question - __Who won the 2023 Cricket World Cup?__ to a Large Language Model. We are fetching context from a __Wikipedia Article__ - https://en.wikipedia.org/wiki/2023_Cricket_World_Cup\n",
    "\n",
    "We first did this manually with ChatGPT. Now, we will do this programatically. We will be using a very popular orchestration framework in python called __LangChain__ - https://www.langchain.com/"
   ]
  },
  {
   "cell_type": "markdown",
   "metadata": {},
   "source": [
    "<img src=\"../../Assets/Images/3.1.png\">"
   ]
  },
  {
   "cell_type": "markdown",
   "metadata": {},
   "source": [
    "## Installing Dependencies"
   ]
  },
  {
   "cell_type": "markdown",
   "metadata": {},
   "source": [
    "All the necessary libraries for running this notebook along with their versions can be found in __requirements.txt__ file in the root directory of this repository\n",
    "\n",
    "You should go to the root directory and run the following command to install the libraries\n",
    "\n",
    "```\n",
    "pip install -r requirements.txt\n",
    "```\n",
    "\n",
    "This is the recommended method of installing the dependencies\n",
    "\n",
    "___\n",
    "Alternatively, you can run the command from this notebook too. The relative path may vary"
   ]
  },
  {
   "cell_type": "code",
   "execution_count": 1,
   "metadata": {},
   "outputs": [
    {
     "name": "stdout",
     "output_type": "stream",
     "text": [
      "Note: you may need to restart the kernel to use updated packages.\n"
     ]
    }
   ],
   "source": [
    "%pip install -r ../../requirements.txt --quiet"
   ]
  },
  {
   "cell_type": "markdown",
   "metadata": {},
   "source": [
    "## 1. Loading Data"
   ]
  },
  {
   "cell_type": "markdown",
   "metadata": {},
   "source": [
    "The first step towards building a knowledge base (or non-parametric memory) of a RAG-enabled system is to source data from its original location. This data may be in the form of word documents, pdf files, csv, HTML etc. Further, the data may be stored in file, block or object stores, in data lakes, data warehouses or even in third party sources that can be accessed via the open internet. This process of sourcing data from its original location is called __Data Loading__. \n",
    "\n",
    "Data Loading includes the following four steps:\n",
    "- __Connection__ to the source of the data\n",
    "- __Extraction and Parsing of text__ from the source format\n",
    "- Reviewing and updating __metadata__ information\n",
    "- Cleaning or __transforming__ the data\n"
   ]
  },
  {
   "cell_type": "markdown",
   "metadata": {},
   "source": [
    "<img src=\"../../Assets/Images/3.2.png\" width=400>"
   ]
  },
  {
   "cell_type": "markdown",
   "metadata": {},
   "source": [
    "#### __Connecting & Parsing an external URL__"
   ]
  },
  {
   "cell_type": "markdown",
   "metadata": {},
   "source": [
    "We will now use LangChain to __connect to Wikipedia__ and __extract data__ from the page about the 2023 Cricket World Cup. For this we will use the __AsyncHtmlLoader__ function from the document_loaders library in the langchain-community package.\n",
    "\n",
    "Let us load the url of our example i.e. the Wikipedia Page of the 2023 Cricket World Cup"
   ]
  },
  {
   "cell_type": "code",
   "execution_count": 4,
   "metadata": {},
   "outputs": [],
   "source": [
    "import warnings\n",
    "\n",
    "# Ignore all warnings\n",
    "warnings.filterwarnings(\"ignore\")\n",
    "\n",
    "#This is the url of the wikipedia page on the 2023 Cricket World Cup\n",
    "url=\"https://en.wikipedia.org/wiki/2023_Cricket_World_Cup\""
   ]
  },
  {
   "cell_type": "code",
   "execution_count": 6,
   "metadata": {},
   "outputs": [],
   "source": [
    "#Import library\n",
    "from langchain_community.document_loaders import AsyncHtmlLoader\n",
    "\n",
    "#Instantiate the AsyncHtmlLoader object\n",
    "loader = AsyncHtmlLoader (url)\n",
    "\n",
    "#Loading the extracted information\n",
    "html_data = loader.load()\n"
   ]
  },
  {
   "cell_type": "markdown",
   "metadata": {},
   "source": [
    "To verify the extracted text and the metadata, let us print a few tokens"
   ]
  },
  {
   "cell_type": "code",
   "execution_count": 7,
   "metadata": {},
   "outputs": [
    {
     "name": "stdout",
     "output_type": "stream",
     "text": [
      "First 1000 characters of extracted content -  <!DOCTYPE html> <html class=\"client-nojs vector-feature-language-in-header-enabled vector-feature-\n",
      "language-in-main-page-header-disabled vector-feature-page-tools-pinned-disabled vector-feature-toc-pinned-clientpref-1 vector-feature-main-menu-\n",
      "pinned-disabled vector-feature-limited-width-clientpref-1 vector-feature-limited-width-content-enabled vector-feature-custom-font-size-clientpref-1\n",
      "vector-feature-appearance-pinned-clientpref-1 vector-feature-night-mode-enabled skin-theme-clientpref-day vector-sticky-header-enabled vector-toc-\n",
      "available\" lang=\"en\" dir=\"ltr\"> <head> <meta charset=\"UTF-8\"> <title>2023 Cricket World Cup - Wikipedia</title> <script>(function(){var\n",
      "className=\"client-js vector-feature-language-in-header-enabled vector-feature-language-in-main-page-header-disabled vector-feature-page-tools-pinned-\n",
      "disabled vector-feature-toc-pinned-clientpref-1 vector-feature-main-menu-pinned-disabled vector-feature-limited-width-clientpref-1 vector-feature-\n",
      "limited-width-content-enabled vec\n"
     ]
    }
   ],
   "source": [
    "import textwrap\n",
    "\n",
    "print(textwrap.fill(f\"First 1000 characters of extracted content -\\n\\n{html_data[0].page_content[:1000]}\", width=150))"
   ]
  },
  {
   "cell_type": "markdown",
   "metadata": {},
   "source": [
    "#### __Metadata Review__"
   ]
  },
  {
   "cell_type": "code",
   "execution_count": 8,
   "metadata": {},
   "outputs": [
    {
     "name": "stdout",
     "output_type": "stream",
     "text": [
      "Metadata information - \n",
      "\n",
      "{'source': 'https://en.wikipedia.org/wiki/2023_Cricket_World_Cup', 'title': '2023 Cricket World Cup - Wikipedia', 'language': 'en'}\n"
     ]
    }
   ],
   "source": [
    "print(f\"Metadata information - \\n\\n{html_data[0].metadata}\")"
   ]
  },
  {
   "cell_type": "markdown",
   "metadata": {},
   "source": [
    "We can see that some __content has been extracted__. Also, some __metadata__ information is present."
   ]
  },
  {
   "cell_type": "markdown",
   "metadata": {},
   "source": [
    "#### __Document Transformation__\n",
    "\n",
    "The content is in __HTML format__ which does not convey a lot of factual information. \n",
    "\n",
    "LangChain also provides a bunch of document transformers for converting formats.\n",
    "\n",
    "\n",
    "We will now transform this data into a readable format using __Html2TextTransformer__ class."
   ]
  },
  {
   "cell_type": "code",
   "execution_count": 10,
   "metadata": {},
   "outputs": [],
   "source": [
    "from langchain_community.document_transformers import Html2TextTransformer\n",
    "\n",
    "#Instantiate the Html2TextTransformer function\n",
    "html2text = Html2TextTransformer()\n",
    "\n",
    "\n",
    "#Call transform_documents\n",
    "html_data_transformed = html2text.transform_documents(html_data)"
   ]
  },
  {
   "cell_type": "markdown",
   "metadata": {},
   "source": [
    "Let us review the extracted content, now transformed by the Html2TextTransformer"
   ]
  },
  {
   "cell_type": "code",
   "execution_count": 11,
   "metadata": {},
   "outputs": [
    {
     "name": "stdout",
     "output_type": "stream",
     "text": [
      "First 100 characters of extracted content -\n",
      "\n",
      "Jump to content\n",
      "\n",
      "Main menu\n",
      "\n",
      "Main menu\n",
      "\n",
      "move to sidebar hide\n",
      "\n",
      "Navigation\n",
      "\n",
      "  * Main page\n",
      "  * Contents\n",
      "  * Current events\n",
      "  * Random article\n",
      "  * About Wikipedia\n",
      "  * Contact us\n",
      "\n",
      "Contribute\n",
      "\n",
      "  * Help\n",
      "  * Learn to edit\n",
      "  * Community portal\n",
      "  * Recent changes\n",
      "  * Upload file\n",
      "  * Special pages\n",
      "\n",
      "Search\n",
      "\n",
      "Search\n",
      "\n",
      "Appearance\n",
      "\n",
      "  * Donate\n",
      "  * Create account\n",
      "  * Log in\n",
      "\n",
      "Personal tools\n",
      "\n",
      "  * Donate\n",
      "  * Create account\n",
      "  * Log in\n",
      "\n",
      "Pages for logged out editors learn more\n",
      "\n",
      "  * Contributions\n",
      "  * Talk\n",
      "\n",
      "## Contents\n",
      "\n",
      "move to sidebar hide\n",
      "\n",
      "  * (Top)\n",
      "\n",
      "  * 1 Background\n",
      "\n",
      "Toggle Background subsection\n",
      "\n",
      "    * 1.1 Host selection\n",
      "\n",
      "    * 1.2 COVID-19 pandemic\n",
      "\n",
      "    * 1.3 Format\n",
      "\n",
      "    * 1.4 Pakistan's participation\n",
      "\n",
      "    * 1.5 Prize money\n",
      "\n",
      "    * 1.6 Marketing\n",
      "\n",
      "  * 2 Qualification\n",
      "\n",
      "  * 3 Venues\n",
      "\n",
      "  * 4 Squads\n",
      "\n",
      "  * 5 Match officials\n",
      "\n",
      "  * 6 Warm-up matches\n",
      "\n",
      "  * 7 Group stage\n",
      "\n",
      "Toggle Group stage subsection\n",
      "\n",
      "    * 7.1 Points table\n",
      "\n",
      "    * 7.2 Results\n",
      "\n",
      "  * 8 Knockout stage\n",
      "\n",
      "Toggle Knockout stage subsection\n",
      "\n",
      "    * 8.1 Semi-finals\n",
      "\n",
      " \n"
     ]
    }
   ],
   "source": [
    "print(f\"First 100 characters of extracted content -\\n\\n{html_data_transformed[0].page_content[:1000]}\")"
   ]
  },
  {
   "cell_type": "markdown",
   "metadata": {},
   "source": [
    "Now, we see that we have text in a __readable english__ language!"
   ]
  },
  {
   "cell_type": "markdown",
   "metadata": {},
   "source": [
    "#### __Optional: BeautifulSoupTransformer__\n",
    "\n",
    "\n",
    "But you may notics that there's a lot of information like Menu Options, Header and footer information that may not be very useful.\n",
    "\n",
    "Another options is the __BeautifulSoupTransformer__ in LangChain that allows you to extract specific tags from HTML pages. Let us extract information contained in 'p' tags."
   ]
  },
  {
   "cell_type": "code",
   "execution_count": 12,
   "metadata": {},
   "outputs": [],
   "source": [
    "from langchain_community.document_transformers import BeautifulSoupTransformer\n",
    "\n",
    "soup_transformer = BeautifulSoupTransformer()\n",
    "\n",
    "html_data_p_tags = soup_transformer.transform_documents(html_data, tags_to_extract=[\"p\"])\n"
   ]
  },
  {
   "cell_type": "code",
   "execution_count": 13,
   "metadata": {},
   "outputs": [
    {
     "name": "stdout",
     "output_type": "stream",
     "text": [
      "First 100 characters of extracted content -  The 2023 ICC Men's Cricket World Cup was the 13th\n",
      "edition of the ICC Men's Cricket World Cup (/wiki/ICC_Men%27s_Cricket_World_Cup) , a quadrennial One\n",
      "Day International (/wiki/One_Day_International) (ODI) cricket (/wiki/Cricket) tournament organized\n",
      "by the International Cricket Council (/wiki/International_Cricket_Council) (ICC). It was hosted from\n",
      "5 October to 19 November 2023 across ten venues in India (/wiki/India) . This was the fourth World\n",
      "Cup held in India, but the first where India was the sole host. The tournament was contested by ten\n",
      "national teams, maintaining the same format used in 2019 (/wiki/2019_Cricket_World_Cup) . After six\n",
      "weeks of round-robin matches, India (/wiki/India_national_cricket_team) , South Africa\n",
      "(/wiki/South_Africa_national_cricket_team) , Australia (/wiki/Australia_national_cricket_team) , and\n",
      "New Zealand (/wiki/New_Zealand_national_cricket_team) finished as the top four and qualified for the\n",
      "knockout stage. In the knockout stage, India and Australia be\n"
     ]
    }
   ],
   "source": [
    "print(textwrap.fill(\n",
    "f\"First 100 characters of extracted content -\\n\\n{html_data_p_tags[0].page_content[:1000]}\", width=100))"
   ]
  },
  {
   "cell_type": "markdown",
   "metadata": {},
   "source": [
    "#### __Congratulations__\n",
    "\n",
    "With this, we have successfully completed the data loading step of the indexing pipeline. We move now to the next step of __Chunking__\n",
    "\n",
    "But before that, check out the document loaders and transformers available in LangChain\n",
    "\n",
    "__Document Loaders__  - [https://python.langchain.com/docs/integrations/document_loaders/]\n",
    "\n",
    "__Document Transformers__ - [https://python.langchain.com/docs/integrations/document_transformers/]"
   ]
  },
  {
   "cell_type": "markdown",
   "metadata": {},
   "source": [
    "---"
   ]
  },
  {
   "cell_type": "markdown",
   "metadata": {},
   "source": [
    "## 2. Data Splitting (Chunking)"
   ]
  },
  {
   "cell_type": "markdown",
   "metadata": {},
   "source": [
    "Breaking down long pieces of text into manageable sizes is called __Data Splitting__ or __Chunking__. This is done for various reasons like Context Window Limitations, Search Complexity, Lost in the middle kind of issues.\n",
    "\n",
    "### <span style=\"color:#47c7fc\">Understanding Chunking: What is it ?</span>\n",
    "\n",
    "In cognitive psychology, chunking is defined as process by which individual pieces of information are bound together into a meaningful whole. (https://psycnet.apa.org/record/2003-09163-002) and a chunk is a familiar collection of elementary units. The idea is that chunking is an essential technique through which human beings perceive the world and commit to memory. The simplest example is how we remember long sequences of digits like phone numbers, credit card numbers, dates or even OTPs. We don’t remember the entire sequences but in our minds, we break them down into chunks.\n",
    "\n",
    "The role of chunking in RAG and the underlying idea is somewhat similar to what it is in real life. Once you’ve extracted and parsed text from the source, instead of committing it all to memory as a single element, you break it down into smaller chunks.\n",
    "\n",
    "> Breaking down long pieces of text into manageable sizes is called Chunking"
   ]
  },
  {
   "cell_type": "markdown",
   "metadata": {},
   "source": [
    "### <span style=\"color:#47c7fc\">Understanding Chunking: Why is it necessary ?</span>\n",
    "There are two main benefits of chunking —\n",
    "\n",
    "- It leads to better retrieval of information. If a chunk represents a single idea (or fact) it can be retrieved with more confidence that if there are multiple ideas (or facts) within the same chunk.\n",
    "- It leads to better generation. The retrieved chunk has information that is focussed on the user query and does not have any other text that may confuse the LLM. Therefore, the generation is more accurate and coherent.\n",
    "\n",
    "Apart from these two benefits there are two limitations of LLMs that chunking addresses.\n",
    "\n",
    "- __Context Window of LLMs__: LLMs, due to the inherent nature of the technology, have a limit on the number of tokens (loosely, words) they can work with at a time. This includes both the number of tokens in the prompt (or the input) and the number of tokens in the completion (or the output). The limit on the total number of tokens that an LLM can process in one go is called the context window size. If we pass an input that is longer than the context window size, the LLM chooses to ignore all text beyond the size. It becomes very important to be careful with the amount to text that is being passed to the LLM.\n",
    "\n",
    "- __Lost in the middle problem__: Even in those LLMs which have a long context window (Claude 3 by Anthropic has a context window of up to 200,00 tokens), an issue with accurately reading the information has been observed. It has been noticed that accuracy declines dramatically if the relevant information is somewhere in the middle of the prompt. This problem can be addressed by passing only the relevant information to the LLM instead of the entire document."
   ]
  },
  {
   "cell_type": "markdown",
   "metadata": {},
   "source": [
    "### <span style=\"color:#47c7fc\">Fixed Size Chunking</span>\n",
    "\n",
    "A very common approach is to pre-determine the size of the chunk and the amount of overlap between the chunks. There are several chunking methods that follow a fixed size chunking approach.\n",
    "\n",
    "- Character-Based Chunking: Chunks are created based on a fixed number of characters\n",
    "\n",
    "- Token-Based Chunking: Chunks are created based on a fixed number of tokens.\n",
    "\n",
    "- Sentence-Based Chunking: Chunks are defined by a fixed number of sentences\n",
    "\n",
    "- Paragraph-Based Chunking: Chunks are created by dividing the text into a fixed number of paragraphs."
   ]
  },
  {
   "cell_type": "markdown",
   "metadata": {},
   "source": [
    "Let's try Character-Based Chunking. "
   ]
  },
  {
   "cell_type": "code",
   "execution_count": 15,
   "metadata": {},
   "outputs": [
    {
     "name": "stdout",
     "output_type": "stream",
     "text": [
      "The number of chunks created : 61\n"
     ]
    }
   ],
   "source": [
    "from langchain.text_splitter import CharacterTextSplitter #Character Based Text Splitter from LangChain\n",
    "\n",
    "text_splitter = CharacterTextSplitter(\n",
    "separator=\"\\n\", #The character that should be used to split.\n",
    "chunk_size=1000, #Number of characters in each chunk \n",
    "chunk_overlap=100, #Number of overlapping characters between chunks\n",
    ")\n",
    "\n",
    "text_chunks=text_splitter.create_documents([html_data_transformed[0].page_content])\n",
    "\n",
    "#Show the number of chunks created\n",
    "print(f\"The number of chunks created : {len(text_chunks)}\")\n",
    "\n"
   ]
  },
  {
   "cell_type": "markdown",
   "metadata": {},
   "source": [
    "In all, this method created 61 chunks. But what about the overlap. Let us check two chunks at random, say, chunk 4 and chunk 5. We will compare the last 200 characters of chunk 4 with the first 200 characters of chunk 5."
   ]
  },
  {
   "cell_type": "code",
   "execution_count": 18,
   "metadata": {},
   "outputs": [
    {
     "data": {
      "text/plain": [
       "'22 \\n    * N/A\\n    * 9\\n    * 10\\n    * 11\\n    * 12\\n    * 13\\n    * 14\\n    * 15\\n    * 16\\n    * 17\\n    * 18\\n  * 2023 \\n    * 19\\n    * N/A\\n    * 20\\n    * 21\\n  \\nChallenge League\\n  * 2019–2022 Challenge League'"
      ]
     },
     "execution_count": 18,
     "metadata": {},
     "output_type": "execute_result"
    }
   ],
   "source": [
    "text_chunks[4].page_content[-200:]"
   ]
  },
  {
   "cell_type": "code",
   "execution_count": 19,
   "metadata": {},
   "outputs": [
    {
     "data": {
      "text/plain": [
       "'* 2023 \\n    * 19\\n    * N/A\\n    * 20\\n    * 21\\n  \\nChallenge League\\n  * 2019–2022 Challenge League\\n  * A \\n    * 2019\\n    * 2021 (2022)\\n    * 2020 (2022)\\n  * B \\n    * 2019\\n    * 2020 (2022)\\n    * 2021 (20'"
      ]
     },
     "execution_count": 19,
     "metadata": {},
     "output_type": "execute_result"
    }
   ],
   "source": [
    "text_chunks[5].page_content[:200]"
   ]
  },
  {
   "cell_type": "markdown",
   "metadata": {},
   "source": [
    "Now, let's see the size distribution of the chunks that have been created"
   ]
  },
  {
   "cell_type": "code",
   "execution_count": 21,
   "metadata": {},
   "outputs": [
    {
     "data": {
      "image/png": "[encoded data removed]",
      "text/plain": [
       "<Figure size 640x480 with 1 Axes>"
      ]
     },
     "metadata": {},
     "output_type": "display_data"
    },
    {
     "name": "stdout",
     "output_type": "stream",
     "text": [
      "The median chunk length is : 973.0\n",
      "The average chunk length is : 944.64\n",
      "The minimum chunk length is : 156\n",
      "The max chunk length is : 1000\n",
      "The 75th percentile chunk length is : 986.0\n",
      "The 25th percentile chunk length is : 940.0\n"
     ]
    }
   ],
   "source": [
    "import matplotlib.pyplot as plt\n",
    "import numpy as np\n",
    "\n",
    "\n",
    "data = [len(doc.page_content) for doc in text_chunks]\n",
    "\n",
    "plt.boxplot(data)  \n",
    "plt.title('Box Plot of chunk lengths') \n",
    "plt.xlabel('Chunk Lengths')  \n",
    "plt.ylabel('Values') \n",
    "\n",
    "plt.show()\n",
    "\n",
    "print(f\"The median chunk length is : {round(np.median(data),2)}\")\n",
    "print(f\"The average chunk length is : {round(np.mean(data),2)}\")\n",
    "print(f\"The minimum chunk length is : {round(np.min(data),2)}\")\n",
    "print(f\"The max chunk length is : {round(np.max(data),2)}\")\n",
    "print(f\"The 75th percentile chunk length is : {round(np.percentile(data, 75),2)}\")\n",
    "print(f\"The 25th percentile chunk length is : {round(np.percentile(data, 25),2)}\")"
   ]
  },
  {
   "cell_type": "markdown",
   "metadata": {},
   "source": [
    "### <span style=\"color:#47c7fc\">Document-structured based Chunking</span>\n",
    "\n",
    "The aim of chunking is to keep meaningful data together. If we are dealing with data in form of HTML, Markdown, JSON or even computer code, it makes more sense to split the data based on the structure rather than a fixed size. Another approach for chunking is to take into consideration the format of the extracted and loaded data. A markdown file, for example is organised by headers, a code written in a programming language like python or java is organized by classes and functions and HTML, likewise, is organised in headers and sections. For such formats a specialised chunking approach can be employed.\n",
    "\n",
    "Examples of structure-based splitting:\n",
    "\n",
    "- Markdown: Split based on headers (e.g., #, ##, ###)\n",
    "- HTML: Split using tags\n",
    "- JSON: Split by object or array elements\n",
    "- Code: Split by functions, classes, or logical blocks\n",
    "\n",
    "\n",
    "Let's recollect out HTML document from the url."
   ]
  },
  {
   "cell_type": "code",
   "execution_count": 22,
   "metadata": {},
   "outputs": [],
   "source": [
    "loader = AsyncHtmlLoader (url)\n",
    "\n",
    "html_data = loader.load()"
   ]
  },
  {
   "cell_type": "markdown",
   "metadata": {},
   "source": [
    "To split the HTML text based on tags (e.g., h1, section, table, etc.), LangChain provides __HTMLSectionSplitter__. It splits the text and adds metadata for each section. Let's take a look.\n"
   ]
  },
  {
   "cell_type": "code",
   "execution_count": 24,
   "metadata": {},
   "outputs": [],
   "source": [
    "from langchain_text_splitters import HTMLSectionSplitter\n",
    "\n",
    "sections_to_split_on = [\n",
    "    (\"h1\", \"Header 1\"),\n",
    "     (\"h2\", \"Header 2\"),\n",
    "     (\"table\",\"Table\"),\n",
    "     #(\"div\", \"Div\"),\n",
    "     #(\"img\",\"Image\"),\n",
    "     (\"p\",\"P\"),\n",
    "\n",
    "\n",
    "]\n",
    "\n",
    "splitter = HTMLSectionSplitter(sections_to_split_on)\n",
    "\n",
    "split_content = splitter.split_text(html_data[0].page_content)"
   ]
  },
  {
   "cell_type": "markdown",
   "metadata": {},
   "source": [
    "The above document object '__split_content__' will have chunks divided based on the provided HTML tags. Let's look at the top 10 documents."
   ]
  },
  {
   "cell_type": "code",
   "execution_count": 25,
   "metadata": {},
   "outputs": [
    {
     "data": {
      "text/plain": [
       "[Document(metadata={'Header 1': '#TITLE#'}, page_content='Jump to content \\n \\n \\n \\n \\n \\n \\n \\n Main menu \\n \\n \\n \\n \\n \\n Main menu \\n move to sidebar \\n hide \\n \\n \\n \\n\\t\\tNavigation\\n\\t \\n \\n \\n Main page \\n Contents \\n Current events \\n Random article \\n About Wikipedia \\n Contact us \\n \\n \\n \\n \\n \\n\\t\\tContribute\\n\\t \\n \\n \\n Help \\n Learn to edit \\n Community portal \\n Recent changes \\n Upload file \\n Special pages \\n \\n \\n \\n \\n \\n \\n \\n \\n \\n \\n \\n \\n \\n \\n \\n \\n \\n \\n \\n Search \\n \\n \\n \\n \\n \\n \\n \\n \\n \\n \\n \\n Search \\n \\n \\n \\n \\n \\n \\n \\n \\n \\n \\n \\n \\n \\n \\n \\n \\n \\n \\n \\n \\n \\n \\n Appearance \\n \\n \\n \\n \\n \\n \\n \\n \\n \\n \\n \\n \\n \\n \\n \\n \\n \\n Donate \\n \\n \\n Create account \\n \\n \\n Log in \\n \\n \\n \\n \\n \\n \\n \\n \\n Personal tools \\n \\n \\n \\n \\n \\n Donate \\n   Create account \\n   Log in \\n \\n \\n \\n \\n \\n\\t\\tPages for logged out editors  learn more \\n \\n \\n \\n Contributions \\n Talk \\n \\n \\n \\n \\n \\n \\n \\n \\n \\n \\n \\n \\n  CentralNotice'),\n",
       " Document(metadata={'Header 2': 'Contents'}, page_content=\"Contents \\n move to sidebar \\n hide \\n \\n \\n \\n \\n (Top) \\n \\n \\n \\n \\n \\n 1 \\n Background \\n \\n \\n \\n \\n Toggle Background subsection \\n \\n \\n \\n \\n \\n 1.1 \\n Host selection \\n \\n \\n \\n \\n \\n \\n \\n \\n 1.2 \\n COVID-19 pandemic \\n \\n \\n \\n \\n \\n \\n \\n \\n 1.3 \\n Format \\n \\n \\n \\n \\n \\n \\n \\n \\n 1.4 \\n Pakistan's participation \\n \\n \\n \\n \\n \\n \\n \\n \\n 1.5 \\n Prize money \\n \\n \\n \\n \\n \\n \\n \\n \\n 1.6 \\n Marketing \\n \\n \\n \\n \\n \\n \\n \\n \\n \\n \\n 2 \\n Qualification \\n \\n \\n \\n \\n \\n \\n \\n \\n 3 \\n Venues \\n \\n \\n \\n \\n \\n \\n \\n \\n 4 \\n Squads \\n \\n \\n \\n \\n \\n \\n \\n \\n 5 \\n Match officials \\n \\n \\n \\n \\n \\n \\n \\n \\n 6 \\n Warm-up matches \\n \\n \\n \\n \\n \\n \\n \\n \\n 7 \\n Group stage \\n \\n \\n \\n \\n Toggle Group stage subsection \\n \\n \\n \\n \\n \\n 7.1 \\n Points table \\n \\n \\n \\n \\n \\n \\n \\n \\n 7.2 \\n Results \\n \\n \\n \\n \\n \\n \\n \\n \\n \\n \\n 8 \\n Knockout stage \\n \\n \\n \\n \\n Toggle Knockout stage subsection \\n \\n \\n \\n \\n \\n 8.1 \\n Semi-finals \\n \\n \\n \\n \\n \\n \\n \\n \\n 8.2 \\n Final \\n \\n \\n \\n \\n \\n \\n \\n \\n \\n \\n 9 \\n Statistics \\n \\n \\n \\n \\n Toggle Statistics subsection \\n \\n \\n \\n \\n \\n 9.1 \\n Most runs \\n \\n \\n \\n \\n \\n \\n \\n \\n 9.2 \\n Most wickets \\n \\n \\n \\n \\n \\n \\n \\n \\n 9.3 \\n Team of the tournament \\n \\n \\n \\n \\n \\n \\n \\n \\n \\n \\n 10 \\n Broadcasting \\n \\n \\n \\n \\n \\n \\n \\n \\n 11 \\n See also \\n \\n \\n \\n \\n \\n \\n \\n \\n 12 \\n References \\n \\n \\n \\n \\n \\n \\n \\n \\n 13 \\n External links \\n \\n \\n \\n \\n \\n \\n \\n \\n \\n \\n \\n \\n \\n \\n \\n \\n \\n \\n Toggle the table of contents\"),\n",
       " Document(metadata={'Header 1': '2023 Cricket World Cup'}, page_content=\"2023 Cricket World Cup \\n \\n \\n \\n 33 languages \\n \\n \\n \\n \\n Afrikaans \\n العربية \\n অসমীয়া \\n বাংলা \\n Deutsch \\n Español \\n Français \\n ગુજરાતી \\n हिन्दी \\n Bahasa Indonesia \\n Italiano \\n ಕನ್ನಡ \\n कॉशुर / کٲشُر \\n മലയാളം \\n मराठी \\n مصرى \\n Nederlands \\n नेपाली \\n 日本語 \\n Oʻzbekcha / ўзбекча \\n ਪੰਜਾਬੀ \\n پنجابی \\n Português \\n Русский \\n ᱥᱟᱱᱛᱟᱲᱤ \\n සිංහල \\n Simple English \\n سنڌي \\n தமிழ் \\n తెలుగు \\n Українська \\n اردو \\n 中文 \\n \\n Edit links \\n \\n \\n \\n \\n \\n \\n \\n \\n \\n \\n \\n Article \\n Talk \\n \\n \\n \\n \\n \\n English \\n \\n \\n \\n \\n \\n \\n \\n \\n \\n \\n \\n \\n \\n \\n \\n \\n \\n Read \\n View source \\n View history \\n \\n \\n \\n \\n \\n \\n \\n Tools \\n \\n \\n \\n \\n \\n Tools \\n move to sidebar \\n hide \\n \\n \\n \\n\\t\\tActions\\n\\t \\n \\n \\n Read \\n View source \\n View history \\n \\n \\n \\n \\n \\n\\t\\tGeneral\\n\\t \\n \\n \\n What links here \\n Related changes \\n Upload file \\n Permanent link \\n Page information \\n Cite this page \\n Get shortened URL \\n Download QR code \\n \\n \\n \\n \\n \\n\\t\\tPrint/export\\n\\t \\n \\n \\n Download as PDF \\n Printable version \\n \\n \\n \\n \\n \\n\\t\\tIn other projects\\n\\t \\n \\n \\n Wikimedia Commons \\n Wikidata item \\n \\n \\n \\n \\n \\n \\n \\n \\n \\n \\n \\n \\n \\n \\n \\n \\n \\n \\n \\n \\n \\n Appearance \\n move to sidebar \\n hide \\n \\n \\n \\n \\n \\n \\n \\n \\n \\n \\n \\n From Wikipedia, the free encyclopedia \\n \\n \\n \\n \\n 13th edition of the ICC Men's Cricket World Cup\"),\n",
       " Document(metadata={'P': ''}, page_content='Cricket tournament \\n .mw-parser-output .infobox-subbox{padding:0;border:none;margin:-3px;width:auto;min-width:100%;font-size:100%;clear:none;float:none;background-color:transparent}.mw-parser-output .infobox-3cols-child{margin:auto}.mw-parser-output .infobox .navbar{font-size:100%}@media screen{html.skin-theme-clientpref-night .mw-parser-output .infobox-full-data:not(.notheme)>div:not(.notheme)[style]{background:#1f1f23!important;color:#f8f9fa}}@media screen and (prefers-color-scheme:dark){html.skin-theme-clientpref-os .mw-parser-output .infobox-full-data:not(.notheme) div:not(.notheme){background:#1f1f23!important;color:#f8f9fa}}@media(min-width:640px){body.skin--responsive .mw-parser-output .infobox-table{display:table!important}body.skin--responsive .mw-parser-output .infobox-table>caption{display:table-caption!important}body.skin--responsive .mw-parser-output .infobox-table>tbody{display:table-row-group}body.skin--responsive .mw-parser-output .infobox-table tr{display:table-row!important}body.skin--responsive .mw-parser-output .infobox-table th,body.skin--responsive .mw-parser-output .infobox-table td{padding-left:inherit;padding-right:inherit}}'),\n",
       " Document(metadata={'Table': \"2023 ICC Men's Cricket World Cup\\n\\n\\n\\nDates\\n5 October – 19 November 2023\\n\\n\\nAdministrator(s)\\nInternational Cricket Council\\n\\n\\nCricket format\\n\\nOne Day International (ODI)\\n\\n\\nTournament format(s)\\n\\nRound-robin and knockout\\n\\n\\n\\nHost(s)\\nIndia\\n\\n\\nChampions\\n\\n\\xa0Australia (6th title)\\n\\n\\nRunners-up\\n\\n\\xa0India\\n\\n\\n\\nParticipants\\n10\\n\\n\\nMatches\\n48\\n\\n\\nAttendance\\n1,250,307 (26,048 per match)\\n\\n\\nPlayer of the series\\n\\n Virat Kohli\\n\\n\\n\\nMost runs\\n\\n Virat Kohli (765)\\n\\n\\nMost wickets\\n\\n Mohammed Shami (24)\\n\\n\\nOfficial website\\ncricketworldcup.com\\n\\n\\n← 2019\\n\\n\\n2027 →\"}, page_content='2023 ICC Men\\'s Cricket World Cup \\n \\n \\n \\n Dates \\n 5 October – 19 November 2023 \\n \\n \\n Administrator(s) \\n International Cricket Council \\n \\n \\n Cricket format \\n \\n One Day International  (ODI) \\n \\n \\n Tournament format(s) \\n \\n Round-robin  and  knockout \\n \\n \\n \\n Host(s) \\n India \\n \\n \\n Champions \\n \\n \\xa0 Australia  (6th title) \\n \\n \\n Runners-up \\n \\n \\xa0 India \\n \\n \\n \\n Participants \\n 10 \\n \\n \\n Matches \\n 48 \\n \\n \\n Attendance \\n 1,250,307 (26,048 per match) \\n \\n \\n Player of the series \\n \\n   Virat Kohli \\n \\n \\n \\n Most runs \\n \\n   Virat Kohli  (765) \\n \\n \\n Most wickets \\n \\n   Mohammed Shami  (24) \\n \\n \\n Official website \\n cricketworldcup.com \\n \\n \\n ←  2019 \\n \\n \\n 2027  → \\n \\n \\n \\n .mw-parser-output .hlist dl,.mw-parser-output .hlist ol,.mw-parser-output .hlist ul{margin:0;padding:0}.mw-parser-output .hlist dd,.mw-parser-output .hlist dt,.mw-parser-output .hlist li{margin:0;display:inline}.mw-parser-output .hlist.inline,.mw-parser-output .hlist.inline dl,.mw-parser-output .hlist.inline ol,.mw-parser-output .hlist.inline ul,.mw-parser-output .hlist dl dl,.mw-parser-output .hlist dl ol,.mw-parser-output .hlist dl ul,.mw-parser-output .hlist ol dl,.mw-parser-output .hlist ol ol,.mw-parser-output .hlist ol ul,.mw-parser-output .hlist ul dl,.mw-parser-output .hlist ul ol,.mw-parser-output .hlist ul ul{display:inline}.mw-parser-output .hlist .mw-empty-li{display:none}.mw-parser-output .hlist dt::after{content:\": \"}.mw-parser-output .hlist dd::after,.mw-parser-output .hlist li::after{content:\" · \";font-weight:bold}.mw-parser-output .hlist dd:last-child::after,.mw-parser-output .hlist dt:last-child::after,.mw-parser-output .hlist li:last-child::after{content:none}.mw-parser-output .hlist dd dd:first-child::before,.mw-parser-output .hlist dd dt:first-child::before,.mw-parser-output .hlist dd li:first-child::before,.mw-parser-output .hlist dt dd:first-child::before,.mw-parser-output .hlist dt dt:first-child::before,.mw-parser-output .hlist dt li:first-child::before,.mw-parser-output .hlist li dd:first-child::before,.mw-parser-output .hlist li dt:first-child::before,.mw-parser-output .hlist li li:first-child::before{content:\" (\";font-weight:normal}.mw-parser-output .hlist dd dd:last-child::after,.mw-parser-output .hlist dd dt:last-child::after,.mw-parser-output .hlist dd li:last-child::after,.mw-parser-output .hlist dt dd:last-child::after,.mw-parser-output .hlist dt dt:last-child::after,.mw-parser-output .hlist dt li:last-child::after,.mw-parser-output .hlist li dd:last-child::after,.mw-parser-output .hlist li dt:last-child::after,.mw-parser-output .hlist li li:last-child::after{content:\")\";font-weight:normal}.mw-parser-output .hlist ol{counter-reset:listitem}.mw-parser-output .hlist ol>li{counter-increment:listitem}.mw-parser-output .hlist ol>li::before{content:\" \"counter(listitem)\"\\\\a0 \"}.mw-parser-output .hlist dd ol>li:first-child::before,.mw-parser-output .hlist dt ol>li:first-child::before,.mw-parser-output .hlist li ol>li:first-child::before{content:\" (\"counter(listitem)\"\\\\a0 \"} \\n .mw-parser-output .sidebar{width:22em;float:right;clear:right;margin:0.5em 0 1em 1em;background:var(--background-color-neutral-subtle,#f8f9fa);border:1px solid var(--border-color-base,#a2a9b1);padding:0.2em;text-align:center;line-height:1.4em;font-size:88%;border-collapse:collapse;display:table}body.skin-minerva .mw-parser-output .sidebar{display:table!important;float:right!important;margin:0.5em 0 1em 1em!important}.mw-parser-output .sidebar-subgroup{width:100%;margin:0;border-spacing:0}.mw-parser-output .sidebar-left{float:left;clear:left;margin:0.5em 1em 1em 0}.mw-parser-output .sidebar-none{float:none;clear:both;margin:0.5em 1em 1em 0}.mw-parser-output .sidebar-outer-title{padding:0 0.4em 0.2em;font-size:125%;line-height:1.2em;font-weight:bold}.mw-parser-output .sidebar-top-image{padding:0.4em}.mw-parser-output .sidebar-top-caption,.mw-parser-output .sidebar-pretitle-with-top-image,.mw-parser-output .sidebar-caption{padding:0.2em 0.4em 0;line-height:1.2em}.mw-parser-output .sidebar-pretitle{padding:0.4em 0.4em 0;line-height:1.2em}.mw-parser-output .sidebar-title,.mw-parser-output .sidebar-title-with-pretitle{padding:0.2em 0.8em;font-size:145%;line-height:1.2em}.mw-parser-output .sidebar-title-with-pretitle{padding:0.1em 0.4em}.mw-parser-output .sidebar-image{padding:0.2em 0.4em 0.4em}.mw-parser-output .sidebar-heading{padding:0.1em 0.4em}.mw-parser-output .sidebar-content{padding:0 0.5em 0.4em}.mw-parser-output .sidebar-content-with-subgroup{padding:0.1em 0.4em 0.2em}.mw-parser-output .sidebar-above,.mw-parser-output .sidebar-below{padding:0.3em 0.8em;font-weight:bold}.mw-parser-output .sidebar-collapse .sidebar-above,.mw-parser-output .sidebar-collapse .sidebar-below{border-top:1px solid #aaa;border-bottom:1px solid #aaa}.mw-parser-output .sidebar-navbar{text-align:right;font-size:115%;padding:0 0.4em 0.4em}.mw-parser-output .sidebar-list-title{padding:0 0.4em;text-align:left;font-weight:bold;line-height:1.6em;font-size:105%}.mw-parser-output .sidebar-list-title-c{padding:0 0.4em;text-align:center;margin:0 3.3em}@media(max-width:640px){body.mediawiki .mw-parser-output .sidebar{width:100%!important;clear:both;float:none!important;margin-left:0!important;margin-right:0!important}}body.skin--responsive .mw-parser-output .sidebar a>img{max-width:none!important}@media screen{html.skin-theme-clientpref-night .mw-parser-output .sidebar:not(.notheme) .sidebar-list-title,html.skin-theme-clientpref-night .mw-parser-output .sidebar:not(.notheme) .sidebar-title-with-pretitle{background:transparent!important}html.skin-theme-clientpref-night .mw-parser-output .sidebar:not(.notheme) .sidebar-title-with-pretitle a{color:var(--color-progressive)!important}}@media screen and (prefers-color-scheme:dark){html.skin-theme-clientpref-os .mw-parser-output .sidebar:not(.notheme) .sidebar-list-title,html.skin-theme-clientpref-os .mw-parser-output .sidebar:not(.notheme) .sidebar-title-with-pretitle{background:transparent!important}html.skin-theme-clientpref-os .mw-parser-output .sidebar:not(.notheme) .sidebar-title-with-pretitle a{color:var(--color-progressive)!important}}@media print{body.ns-0 .mw-parser-output .sidebar{display:none!important}} \\n \\n \\n .mw-parser-output .tmulti .multiimageinner{display:flex;flex-direction:column}.mw-parser-output .tmulti .trow{display:flex;flex-direction:row;clear:left;flex-wrap:wrap;width:100%;box-sizing:border-box}.mw-parser-output .tmulti .tsingle{margin:1px;float:left}.mw-parser-output .tmulti .theader{clear:both;font-weight:bold;text-align:center;align-self:center;background-color:transparent;width:100%}.mw-parser-output .tmulti .thumbcaption{background-color:transparent}.mw-parser-output .tmulti .text-align-left{text-align:left}.mw-parser-output .tmulti .text-align-right{text-align:right}.mw-parser-output .tmulti .text-align-center{text-align:center}@media all and (max-width:720px){.mw-parser-output .tmulti .thumbinner{width:100%!important;box-sizing:border-box;max-width:none!important;align-items:center}.mw-parser-output .tmulti .trow{justify-content:center}.mw-parser-output .tmulti .tsingle{float:none!important;max-width:100%!important;box-sizing:border-box;text-align:center}.mw-parser-output .tmulti .tsingle .thumbcaption{text-align:left}.mw-parser-output .tmulti .trow>.thumbcaption{text-align:center}}@media screen{html.skin-theme-clientpref-night .mw-parser-output .tmulti .multiimageinner span:not(.skin-invert-image):not(.skin-invert):not(.bg-transparent) img{background-color:white}}@media screen and (prefers-color-scheme:dark){html.skin-theme-clientpref-os .mw-parser-output .tmulti .multiimageinner span:not(.skin-invert-image):not(.skin-invert):not(.bg-transparent) img{background-color:white}}'),\n",
       " Document(metadata={'Table': \"Part of a series on the\\n\\n2023 Cricket World Cup /2025 ICC Champions Trophy\\n\\n\\n\\n\\n\\n\\nCWC:  Category •  CommonsCT:  Category •  Commons\\n\\n\\n2023 Cricket World Cup\\n\\n\\n\\n\\nBackground\\n\\n\\nHost selection\\nCOVID-19 pandemic\\nFormat\\nPakistan's participation\\nPrize money\\nMarketing\\n\\n\\n\\n\\n\\n\\n\\n\\nStages\\n\\nWarm-up matches\\nGroup stage\\nKnockout stage\\n\\nSemi-finals\\nFinal\\n\\n\\n\\n\\n\\n\\n\\n\\n\\nGeneral Information\\n\\n\\nOfficials\\nSquads\\nStatistics\\nVenues\\n\\n\\n\\n\\n\\n\\nCWC QualificationOverview\\n\\n\\n\\n\\nSuper League\\n\\n2020–2023 Super League\\n2020\\n\\nAUS v ENG\\nNED v ZIM\\nIRE v ENG\\n\\n\\n2020–21\\n\\nENG v IND\\nIND v AUS\\nBAN v NZ\\nPAK v SA\\nZIM v PAK\\nZIM v SL\\nENG v SA\\nWIN v BAN\\nIRE v AFG in UAE\\nSL v WIN\\n\\n\\n2021\\n\\nSL v BAN\\nIRE v NED\\nAUS v WIN\\nBAN v ZIM\\nSL v ENG\\nPAK v ENG\\nSA v IRE\\nIND v SL\\nAFG v SL\\nZIM v IRE\\n\\n\\n2021–22\\n\\nAFG v PAK\\nSA v SL\\nZIM v SL\\nWIN v IND\\nAFG v BAN\\nAUS v PAK\\nBAN v SA\\nNED v SA\\nNED v NZ\\nIRE v WIN\\nNED v AFG in Qatar\\nAFG v IND\\n\\n\\n2022\\n\\nNZ v IRE\\nWIN v NED\\nENG v NED\\nWIN v PAK\\nPAK v NED\\nAFG v ZIM\\nNZ v WIN\\nIND v ZIM\\nZIM v AUS\\n\\n\\n2022–23\\n\\nNZ v AUS\\nSA v IND\\nAFG v SL\\nNZ v PAK\\nSA v AUS\\nENG v SA\\nENG v BAN\\nSL v NZ\\nNED v ZIM\\n\\n\\n2023\\nBAN v IRE\\n\\n\\n\\n\\n\\n\\n\\n\\nLeague 2\\n\\n2019–2023 League 2\\n2019\\n\\n1\\n2\\n3\\n\\n\\n2020\\n\\n4\\n5\\n\\n\\n2021\\n\\n6\\n7\\n8\\n\\n\\n2022\\n\\nN/A\\n9\\n10\\n11\\n12\\n13\\n14\\n15\\n16\\n17\\n18\\n\\n\\n2023\\n\\n19\\nN/A\\n20\\n21\\n\\n\\n\\n\\n\\n\\n\\n\\n\\nChallenge League\\n\\n2019–2022 Challenge League\\nA\\n\\n2019\\n2021 (2022)\\n2020 (2022)\\n\\n\\nB\\n\\n2019\\n2020 (2022)\\n2021 (2022)\\n\\n\\n\\n\\n\\n\\n\\n\\n\\nCWC Qualifier\\n\\n\\n2023 Qualifier Play-off\\n2023 Qualifier\\n\\n\\n\\n\\n\\n\\n2025 ICC Champions Trophy\\n\\n\\n\\n\\nBackground\\n\\n\\nHost selection\\nFormat\\nIndia's participation\\nPrize money\\nMarketing\\n\\n\\n\\n\\n\\n\\n\\n\\nStages\\n\\nWarm-up matches\\nGroup stage\\n\\nGroup A\\nGroup B\\n\\n\\nKnockout stage\\n\\nSemi-finals\\nFinal\\n\\n\\n\\n\\n\\n\\n\\n\\n\\nGeneral Information\\n\\n\\nOfficials\\nSquads\\nStatistics\\nVenues\\n\\n\\n\\n\\n\\n\\n← 2019 CWC 2027 →\\n← 2017 CT 2029 →\\n\\n\\n\\n\\n\\nv\\nt\\ne\"}, page_content='Part of a series on the \\n \\n 2023 Cricket World Cup  / 2025 ICC Champions Trophy \\n \\n \\n \\n \\n \\n \\nCWC:    Category  •    Commons CT:    Category  •    Commons \\n \\n \\n 2023 Cricket World Cup \\n \\n \\n \\n \\n Background \\n \\n \\n Host selection \\n COVID-19 pandemic \\n Format \\n Pakistan\\'s participation \\n Prize money \\n Marketing \\n \\n \\n \\n \\n \\n \\n \\n \\n Stages \\n \\n Warm-up matches \\n Group stage \\n Knockout stage\\n \\n Semi-finals \\n Final \\n \\n \\n \\n \\n \\n \\n \\n \\n \\n General Information \\n \\n \\n Officials \\n Squads \\n Statistics \\n Venues \\n \\n \\n \\n \\n \\n \\nCWC Qualification Overview \\n \\n \\n \\n \\n Super League \\n \\n 2020–2023 Super League \\n 2020\\n \\n AUS v ENG \\n NED v ZIM \\n IRE v ENG \\n \\n \\n 2020–21\\n \\n ENG v IND \\n IND v AUS \\n BAN v NZ \\n PAK v SA \\n ZIM v PAK \\n ZIM v SL \\n ENG v SA \\n WIN v BAN \\n IRE v AFG in UAE \\n SL v WIN \\n \\n \\n 2021\\n \\n SL v BAN \\n IRE v NED \\n AUS v WIN \\n BAN v ZIM \\n SL v ENG \\n PAK v ENG \\n SA v IRE \\n IND v SL \\n AFG v SL \\n ZIM v IRE \\n \\n \\n 2021–22\\n \\n AFG v PAK \\n SA v SL \\n ZIM v SL \\n WIN v IND \\n AFG v BAN \\n AUS v PAK \\n BAN v SA \\n NED v SA \\n NED v NZ \\n IRE v WIN \\n NED v AFG in Qatar \\n AFG v IND \\n \\n \\n 2022\\n \\n NZ v IRE \\n WIN v NED \\n ENG v NED \\n WIN v PAK \\n PAK v NED \\n AFG v ZIM \\n NZ v WIN \\n IND v ZIM \\n ZIM v AUS \\n \\n \\n 2022–23\\n \\n NZ v AUS \\n SA v IND \\n AFG v SL \\n NZ v PAK \\n SA v AUS \\n ENG v SA \\n ENG v BAN \\n SL v NZ \\n NED v ZIM \\n \\n \\n 2023\\n BAN v IRE \\n \\n \\n \\n \\n \\n \\n \\n \\n League 2 \\n \\n 2019–2023 League 2 \\n 2019\\n \\n 1 \\n 2 \\n 3 \\n \\n \\n 2020\\n \\n 4 \\n 5 \\n \\n \\n 2021\\n \\n 6 \\n 7 \\n 8 \\n \\n \\n 2022\\n \\n N/A \\n 9 \\n 10 \\n 11 \\n 12 \\n 13 \\n 14 \\n 15 \\n 16 \\n 17 \\n 18 \\n \\n \\n 2023\\n \\n 19 \\n N/A \\n 20 \\n 21 \\n \\n \\n \\n \\n \\n \\n \\n \\n \\n Challenge League \\n \\n 2019–2022 Challenge League \\n A\\n \\n 2019 \\n 2021 (2022) \\n 2020 (2022) \\n \\n \\n B\\n \\n 2019 \\n 2020 (2022) \\n 2021 (2022) \\n \\n \\n \\n \\n \\n \\n \\n \\n \\n CWC Qualifier \\n \\n \\n 2023 Qualifier Play-off \\n 2023 Qualifier \\n \\n \\n \\n \\n \\n \\n 2025 ICC Champions Trophy \\n \\n \\n \\n \\n Background \\n \\n \\n Host selection \\n Format \\n India\\'s participation \\n Prize money \\n Marketing \\n \\n \\n \\n \\n \\n \\n \\n \\n Stages \\n \\n Warm-up matches \\n Group stage\\n \\n Group A \\n Group B \\n \\n \\n Knockout stage\\n \\n Semi-finals \\n Final \\n \\n \\n \\n \\n \\n \\n \\n \\n \\n General Information \\n \\n \\n Officials \\n Squads \\n Statistics \\n Venues \\n \\n \\n \\n \\n \\n \\n ← 2019  CWC  2027 → \\n ← 2017  CT  2029 → \\n \\n \\n \\n .mw-parser-output .navbar{display:inline;font-size:88%;font-weight:normal}.mw-parser-output .navbar-collapse{float:left;text-align:left}.mw-parser-output .navbar-boxtext{word-spacing:0}.mw-parser-output .navbar ul{display:inline-block;white-space:nowrap;line-height:inherit}.mw-parser-output .navbar-brackets::before{margin-right:-0.125em;content:\"[ \"}.mw-parser-output .navbar-brackets::after{margin-left:-0.125em;content:\" ]\"}.mw-parser-output .navbar li{word-spacing:-0.125em}.mw-parser-output .navbar a>span,.mw-parser-output .navbar a>abbr{text-decoration:inherit}.mw-parser-output .navbar-mini abbr{font-variant:small-caps;border-bottom:none;text-decoration:none;cursor:inherit}.mw-parser-output .navbar-ct-full{font-size:114%;margin:0 7em}.mw-parser-output .navbar-ct-mini{font-size:114%;margin:0 4em}html.skin-theme-clientpref-night .mw-parser-output .navbar li a abbr{color:var(--color-base)!important}@media(prefers-color-scheme:dark){html.skin-theme-clientpref-os .mw-parser-output .navbar li a abbr{color:var(--color-base)!important}}@media print{.mw-parser-output .navbar{display:none!important}} \\n \\n v \\n t \\n e'),\n",
       " Document(metadata={'P': \"The 2023 ICC Men's Cricket World Cup was the 13th edition of the ICC Men's Cricket World Cup, a quadrennial One Day International (ODI) cricket tournament organized by the International Cricket Council (ICC). It was hosted from 5 October to 19 November 2023 across ten venues in India. This was the fourth World Cup held in India, but the first where India was the sole host.\"}, page_content=\"The  2023 ICC Men's Cricket World Cup  was the 13th edition of the  ICC Men's Cricket World Cup , a quadrennial  One Day International  (ODI)  cricket  tournament organized by the  International Cricket Council  (ICC). It was hosted from 5 October to 19 November 2023 across ten venues in  India . This was the fourth World Cup held in India, but the first where India was the sole host.\"),\n",
       " Document(metadata={'P': 'The tournament was contested by ten national teams, maintaining the same format used in 2019. After six weeks of round-robin matches, India, South Africa, Australia, and New Zealand finished as the top four and qualified for the knockout stage. In the knockout stage, India and Australia beat New Zealand and South Africa, respectively, to advance to the final, played on 19 November at the Narendra Modi Stadium in Ahmedabad. Australia won the final by six wickets, winning their sixth Cricket World Cup title.'}, page_content='The tournament was contested by ten national teams, maintaining the same format used in  2019 . After six weeks of round-robin matches,  India ,  South Africa ,  Australia , and  New Zealand  finished as the top four and qualified for the knockout stage. In the knockout stage, India and Australia beat New Zealand and South Africa, respectively, to advance to the final, played on 19 November at the  Narendra Modi Stadium  in  Ahmedabad . Australia won the final by six wickets, winning their sixth Cricket World Cup title.'),\n",
       " Document(metadata={'P': 'Virat Kohli was named the player of the tournament and also scored the most runs, while Mohammed Shami was the leading wicket-taker. A total of 1,250,307 spectators attended the matches, the highest number in any Cricket World Cup to date.[1] The tournament final set viewership records in India, drawing 518 million viewers, with a peak of 57 million streaming viewers.'}, page_content='Virat Kohli  was named the player of the tournament and also scored the most runs, while  Mohammed Shami  was the leading wicket-taker. A total of 1,250,307 spectators attended the matches, the highest number in any Cricket World Cup to date. [ 1 ]  The tournament final set viewership records in India, drawing 518 million viewers, with a peak of 57 million streaming viewers.'),\n",
       " Document(metadata={'Header 2': 'Background'}, page_content='Background \\n Host selection')]"
      ]
     },
     "execution_count": 25,
     "metadata": {},
     "output_type": "execute_result"
    }
   ],
   "source": [
    "split_content[:10]"
   ]
  },
  {
   "cell_type": "markdown",
   "metadata": {},
   "source": [
    "We can see the metatadata indicating the section tag of the chunk.\n",
    "So how many chunks were created?"
   ]
  },
  {
   "cell_type": "code",
   "execution_count": 27,
   "metadata": {},
   "outputs": [
    {
     "data": {
      "text/plain": [
       "231"
      ]
     },
     "execution_count": 27,
     "metadata": {},
     "output_type": "execute_result"
    }
   ],
   "source": [
    "len(split_content)"
   ]
  },
  {
   "cell_type": "markdown",
   "metadata": {},
   "source": [
    "Let's see how many chunks for each of the sections"
   ]
  },
  {
   "cell_type": "code",
   "execution_count": 28,
   "metadata": {},
   "outputs": [
    {
     "name": "stdout",
     "output_type": "stream",
     "text": [
      "Counter({'Table': 189, 'P': 26, 'Header 2': 14, 'Header 1': 2})\n"
     ]
    }
   ],
   "source": [
    "from collections import Counter\n",
    "\n",
    "class_counter = Counter()\n",
    "\n",
    "for doc in split_content:\n",
    "    document_class = next(iter(doc.metadata.keys()))\n",
    "    class_counter[document_class] += 1\n",
    "\n",
    "print(class_counter)"
   ]
  },
  {
   "cell_type": "markdown",
   "metadata": {},
   "source": [
    "Now, let us look at the lengths of these chunks"
   ]
  },
  {
   "cell_type": "code",
   "execution_count": 29,
   "metadata": {},
   "outputs": [
    {
     "data": {
      "image/png": "[encoded data removed]",
      "text/plain": [
       "<Figure size 640x480 with 1 Axes>"
      ]
     },
     "metadata": {},
     "output_type": "display_data"
    },
    {
     "name": "stdout",
     "output_type": "stream",
     "text": [
      "The median chunk lenght is : 71.0\n",
      "The average chunk lenght is : 326.65\n",
      "The minimum chunk lenght is : 12\n",
      "The max chunk lenght is : 13740\n",
      "The 75th percentile chunk length is : 200.0\n",
      "The 25th percentile chunk length is : 37.0\n"
     ]
    }
   ],
   "source": [
    "\n",
    "data = [len(doc.page_content) for doc in split_content]\n",
    "\n",
    "plt.boxplot(data)  \n",
    "plt.title('Box Plot of chunk lengths')\n",
    "plt.xlabel('Chunk Lengths')  \n",
    "plt.ylabel('Values')  \n",
    "\n",
    "plt.show()\n",
    "\n",
    "print(f\"The median chunk lenght is : {round(np.median(data),2)}\")\n",
    "print(f\"The average chunk lenght is : {round(np.mean(data),2)}\")\n",
    "print(f\"The minimum chunk lenght is : {round(np.min(data),2)}\")\n",
    "print(f\"The max chunk lenght is : {round(np.max(data),2)}\")\n",
    "print(f\"The 75th percentile chunk length is : {round(np.percentile(data, 75),2)}\")\n",
    "print(f\"The 25th percentile chunk length is : {round(np.percentile(data, 25),2)}\")"
   ]
  },
  {
   "cell_type": "markdown",
   "metadata": {},
   "source": [
    "Some of the chunk lengths are longer than 1000. Let's try to control that."
   ]
  },
  {
   "cell_type": "code",
   "execution_count": 30,
   "metadata": {},
   "outputs": [
    {
     "name": "stdout",
     "output_type": "stream",
     "text": [
      "The number of chunks created : 285\n"
     ]
    }
   ],
   "source": [
    "from langchain.text_splitter import RecursiveCharacterTextSplitter #Another Character Based Text Splitter from LangChain\n",
    "\n",
    "text_splitter = RecursiveCharacterTextSplitter(\n",
    "separators=[\"\\n\\n\",\"\\n\",\".\"], #The character that should be used to split. More than one can be given to try recursively.\n",
    "chunk_size=1000, #Number of characters in each chunk \n",
    "chunk_overlap=100, #Number of overlapping characters between chunks\n",
    ")\n",
    "\n",
    "final_chunks=text_splitter.split_documents(split_content)\n",
    "\n",
    "#Show the number of chunks created\n",
    "print(f\"The number of chunks created : {len(final_chunks)}\")"
   ]
  },
  {
   "cell_type": "code",
   "execution_count": 31,
   "metadata": {},
   "outputs": [
    {
     "data": {
      "image/png": "[encoded data removed]",
      "text/plain": [
       "<Figure size 640x480 with 1 Axes>"
      ]
     },
     "metadata": {},
     "output_type": "display_data"
    },
    {
     "name": "stdout",
     "output_type": "stream",
     "text": [
      "The median chunk lenght is : 75.0\n",
      "The average chunk lenght is : 272.27\n",
      "The minimum chunk lenght is : 6\n",
      "The max chunk lenght is : 1000\n",
      "The 75th percentile chunk length is : 377.0\n",
      "The 25th percentile chunk length is : 50.0\n"
     ]
    }
   ],
   "source": [
    "\n",
    "data = [len(doc.page_content) for doc in final_chunks]\n",
    "\n",
    "plt.boxplot(data)  \n",
    "plt.title('Box Plot of chunk lengths')  # Title\n",
    "plt.xlabel('Chunk Lengths')  # Label for x-axis\n",
    "plt.ylabel('Values')  # Label for y-axis\n",
    "\n",
    "plt.show()\n",
    "\n",
    "print(f\"The median chunk lenght is : {round(np.median(data),2)}\")\n",
    "print(f\"The average chunk lenght is : {round(np.mean(data),2)}\")\n",
    "print(f\"The minimum chunk lenght is : {round(np.min(data),2)}\")\n",
    "print(f\"The max chunk lenght is : {round(np.max(data),2)}\")\n",
    "print(f\"The 75th percentile chunk length is : {round(np.percentile(data, 75),2)}\")\n",
    "print(f\"The 25th percentile chunk length is : {round(np.percentile(data, 25),2)}\")"
   ]
  },
  {
   "cell_type": "markdown",
   "metadata": {},
   "source": [
    "<img src=\"../../Assets/Images/3.4.png\">"
   ]
  },
  {
   "cell_type": "markdown",
   "metadata": {},
   "source": [
    "#### __Congratulations__\n",
    "\n",
    "With this, you have successfully completed the chunking of the data. We move now to the next step of creating __Embeddings__\n",
    "\n",
    "But before that, check out the splitters available in LangChain\n",
    "\n",
    "__Text Splitters__  - [https://python.langchain.com/docs/concepts/text_splitters/]"
   ]
  },
  {
   "cell_type": "markdown",
   "metadata": {},
   "source": [
    "## Data Conversion (Embeddings)"
   ]
  },
  {
   "cell_type": "markdown",
   "metadata": {},
   "source": [
    "Computers, at the very core, do mathematical calculations. Mathematical calculations are done on numbers. Therefore, for a computer to process any kind of non-numeric data like text or image, it must be first converted into a numerical form. \n",
    "\n",
    "Embeddings is a design pattern that is extremely helpful in the fields of data science, machine learning and artificial intelligence. Embeddings are vector representations of data. As a general definition, embeddings are data that has been transformed into n-dimensional matrices. A word embedding is a vector representation of words. "
   ]
  },
  {
   "attachments": {
    "3.6.png": {
     "image/png": "[encoded data removed]"
    }
   },
   "cell_type": "markdown",
   "metadata": {},
   "source": [
    "![3.6.png](attachment:3.6.png)"
   ]
  },
  {
   "cell_type": "markdown",
   "metadata": {},
   "source": [
    "#### __Open Source Embeddings from HuggingFace__\n",
    "\n",
    "Let's begin with an opensource embeddings from HuggingFace!"
   ]
  },
  {
   "cell_type": "code",
   "execution_count": 34,
   "metadata": {},
   "outputs": [],
   "source": [
    "from langchain_huggingface import HuggingFaceEmbeddings\n",
    "\n",
    "embeddings = HuggingFaceEmbeddings(model_name=\"sentence-transformers/all-mpnet-base-v2\")\n",
    "\n",
    "hf_embeddings = embeddings.embed_documents([chunk.page_content for chunk in final_chunks])\n"
   ]
  },
  {
   "cell_type": "code",
   "execution_count": 35,
   "metadata": {},
   "outputs": [
    {
     "name": "stdout",
     "output_type": "stream",
     "text": [
      "The lenght of the embeddings vector is 768\n",
      "The embeddings object is an array of 285 X 768\n"
     ]
    }
   ],
   "source": [
    "print(f\"The lenght of the embeddings vector is {len(hf_embeddings[0])}\")\n",
    "print(f\"The embeddings object is an array of {len(hf_embeddings)} X {len(hf_embeddings[0])}\")"
   ]
  },
  {
   "cell_type": "markdown",
   "metadata": {},
   "source": [
    "#### __OpenAI Embeddings__\n",
    "\n",
    "OpenAI, the company behind ChatGPT and GPT series of Large Language Models also provide three Embeddings Models. \n",
    "\n",
    "1.\ttext-embedding-ada-002 was released in December 2022. It has a dimension of 1536 meaning that it converts text into a vector of 1536 dimensions.\n",
    "2.\ttext-embedding-3-small is the latest small embedding model of 1536 dimensions released in January 2024. The flexibility it provides over ada-002 model is that users can adjust the size of the dimensions according to their needs.\n",
    "3.\ttext-embedding-3-large is a large embedding model of 3072 dimensions released together with the text-embedding-3-small model. It is the best performing model released by OpenAI yet.\n",
    "\n",
    "\n",
    "OpenAI models are proprietary and can be accessed using the OpenAI API and are priced based on the number of input tokens for which embeddings are desired. \n"
   ]
  },
  {
   "cell_type": "markdown",
   "metadata": {},
   "source": [
    "Note: You will need an __OpenAI API Key__ which can be obtained from [OpenAI](https://platform.openai.com/api-keys)"
   ]
  },
  {
   "cell_type": "markdown",
   "metadata": {},
   "source": [
    "To initialize the __OpenAI client__, we need to pass the api key. There are many ways of doing it. \n",
    "\n",
    "####  [Option 1] Creating a .env file for storing the API key and using it # Recommended\n",
    "\n",
    "Install the __dotenv__ library\n",
    "\n",
    "_The dotenv library is a popular tool used in various programming languages, including Python and Node.js, to manage environment variables in development and deployment environments. It allows developers to load environment variables from a .env file into their application's environment._\n",
    "\n",
    "- Create a file named .env in the root directory of their project.\n",
    "- Inside the .env file, then define environment variables in the format VARIABLE_NAME=value. \n",
    "\n",
    "e.g.\n",
    "\n",
    "OPENAI_API_KEY=YOUR API KEY"
   ]
  },
  {
   "cell_type": "code",
   "execution_count": 15,
   "metadata": {},
   "outputs": [
    {
     "name": "stdout",
     "output_type": "stream",
     "text": [
      "Success: .env file found with some environment variables\n"
     ]
    }
   ],
   "source": [
    "from dotenv import load_dotenv\n",
    "import os\n",
    "\n",
    "if load_dotenv():\n",
    "    print(\"Success: .env file found with some environment variables\")\n",
    "else:\n",
    "    print(\"Caution: No environment variables found. Please create .env file in the root directory or add environment variables in the .env file\")"
   ]
  },
  {
   "cell_type": "markdown",
   "metadata": {},
   "source": [
    "#### [Option 2] Alternatively, you can set the API key in code. \n",
    "However, this is not recommended since it can leave your key exposed for potential misuse. Uncomment the cell below to use this method."
   ]
  },
  {
   "cell_type": "code",
   "execution_count": 36,
   "metadata": {},
   "outputs": [],
   "source": [
    "# import os\n",
    "# os.environ[\"OPENAI_API_KEY\"] = \"sk-proj-******\" #Imp : Replace with an OpenAI API Key"
   ]
  },
  {
   "cell_type": "markdown",
   "metadata": {},
   "source": [
    "We can also test if the key is valid or not"
   ]
  },
  {
   "cell_type": "code",
   "execution_count": 38,
   "metadata": {},
   "outputs": [
    {
     "name": "stdout",
     "output_type": "stream",
     "text": [
      "OPENAI_API_KEY is set and is valid\n"
     ]
    }
   ],
   "source": [
    "import os\n",
    "\n",
    "api_key=os.environ[\"OPENAI_API_KEY\"]\n",
    "\n",
    "from openai import OpenAI\n",
    "\n",
    "client = OpenAI()\n",
    "\n",
    "\n",
    "if api_key:\n",
    "    try:\n",
    "        client.models.list()\n",
    "        print(\"OPENAI_API_KEY is set and is valid\")\n",
    "    except openai.APIError as e:\n",
    "        print(f\"OpenAI API returned an API Error: {e}\")\n",
    "        pass\n",
    "    except openai.APIConnectionError as e:\n",
    "        print(f\"Failed to connect to OpenAI API: {e}\")\n",
    "        pass\n",
    "    except openai.RateLimitError as e:\n",
    "        print(f\"OpenAI API request exceeded rate limit: {e}\")\n",
    "        pass\n",
    "\n",
    "else:\n",
    "    print(\"Please set you OpenAI API key as an environment variable OPENAI_API_KEY\")\n",
    "\n"
   ]
  },
  {
   "cell_type": "markdown",
   "metadata": {},
   "source": [
    "Now we will use the __OpenAIEmbeddings__ library from langchain "
   ]
  },
  {
   "cell_type": "code",
   "execution_count": 40,
   "metadata": {},
   "outputs": [],
   "source": [
    "# Import OpenAIEmbeddings from the library\n",
    "from langchain_openai import OpenAIEmbeddings\n",
    "\n",
    "\n",
    "os.environ[\"TOKENIZERS_PARALLELISM\"]=\"false\"\n",
    "\n",
    "# Instantiate the embeddings object\n",
    "embeddings = OpenAIEmbeddings(model=\"text-embedding-3-small\")\n",
    "\n",
    "# Create embeddings for all chunks\n",
    "openai_embeddings = embeddings.embed_documents([chunk.page_content for chunk in final_chunks])\n"
   ]
  },
  {
   "cell_type": "code",
   "execution_count": 42,
   "metadata": {},
   "outputs": [
    {
     "name": "stdout",
     "output_type": "stream",
     "text": [
      "The lenght of the embeddings vector is 1536\n",
      "The embeddings object is an array of 285 X 1536\n"
     ]
    }
   ],
   "source": [
    "print(f\"The lenght of the embeddings vector is {len(openai_embeddings[0])}\")\n",
    "print(f\"The embeddings object is an array of {len(openai_embeddings)} X {len(openai_embeddings[0])}\")\n"
   ]
  },
  {
   "cell_type": "markdown",
   "metadata": {},
   "source": [
    "#### __Congratulations__\n",
    "\n",
    "With this, we have successfully completed the creation of embeddings. We move now to the next step of storing the embeddings in a  __Vector Store__\n",
    "\n",
    "Read more about [Embedding Models Here](https://python.langchain.com/docs/integrations/text_embedding/)"
   ]
  },
  {
   "cell_type": "markdown",
   "metadata": {},
   "source": [
    "## Storage (Vector Databases)"
   ]
  },
  {
   "cell_type": "markdown",
   "metadata": {},
   "source": [
    "The data has been loaded, split, and converted into embeddings. For us to use this information repeatedly, we need to store it in memory so that it can be accessed on demand. Vector Databases are built to handle high dimensional vectors. These databases specialize in indexing and storing vector embeddings for fast semantic search and retrieval. "
   ]
  },
  {
   "cell_type": "markdown",
   "metadata": {},
   "source": [
    "#### Facebook AI Similarity Search (FAISS)"
   ]
  },
  {
   "cell_type": "code",
   "execution_count": 43,
   "metadata": {},
   "outputs": [
    {
     "data": {
      "text/plain": [
       "['0807dede-2485-4eb6-8345-58fc1bd59416',\n",
       " 'ec721e7a-8824-48ac-9b48-b558576174ba',\n",
       " 'dfbbef55-d344-4ad4-b41d-de60688982fe',\n",
       " '9996753d-55c7-4185-af20-0894a1d2014c',\n",
       " '9cf5ed83-0363-4db0-bb0b-6835061cb635',\n",
       " 'b7452660-65bc-4d57-8162-c681111f1fda',\n",
       " 'f3b419b1-2fb2-4ec4-9f76-fdd04a26b8b4',\n",
       " '65f3ea52-acee-4424-8107-ea18b9aa54d0',\n",
       " 'f6fc161e-02b7-48b7-9f8a-10413b5e78fe',\n",
       " '419f8858-3c68-4f51-bf80-631887c8bb16',\n",
       " 'c2d1a280-8c6c-42b8-b15b-bb3cc2e6c45f',\n",
       " '97afc107-ea3a-4fea-881c-fa4a91da94d2',\n",
       " 'c3555fb7-504e-4d42-9d5d-8050a9713bf1',\n",
       " 'bf253a50-0b78-40b1-bd0a-80fa5a2651f0',\n",
       " '1b863382-e3a5-4537-b375-31a77e39c37a',\n",
       " '04d335f2-1b12-4008-9f58-f0f31cebc8ca',\n",
       " '79f66473-5a8f-4c19-bb4a-1c572e6a06cb',\n",
       " '153b7176-cc4c-45a6-916f-17e5b6e1013c',\n",
       " '25b18839-9100-49b8-88b6-6efe55914fae',\n",
       " '14dfe3bd-8af4-41ce-9d13-47d3800d46b9',\n",
       " 'd1dda697-f3ef-44cb-8085-b320f0532a48',\n",
       " '3e018a7c-9ba3-4916-83e3-82a631655b9f',\n",
       " '2f3d872a-b3b6-4ad5-831b-0bcf55b468fc',\n",
       " 'fdbdae59-a6dc-4668-8865-e1989ab8fa8b',\n",
       " 'd0c64dab-aa29-4fe1-ad7e-38dde255e7f6',\n",
       " '428a610f-b553-49f9-8dd5-895da6eb7d72',\n",
       " 'ba488dfa-12d0-4073-b67a-4d84a56bc664',\n",
       " '1a7431ce-3b1c-4ec0-aa84-c143e3b0b6fb',\n",
       " 'ec179bdb-9cef-41e9-b6df-19208aa85fe2',\n",
       " '61016f5d-dc36-4d22-af9d-87e1d2789891',\n",
       " '0d624f14-d338-4e86-9416-ff9121b76eaf',\n",
       " 'd85a5be3-9ef5-4a30-bf71-bbc777dd2c45',\n",
       " '0df3e73b-f73c-47fb-9aa0-fd2c47254bbb',\n",
       " '8a79d977-7dde-4064-b2ae-85189b0b06d7',\n",
       " '0bdb90bd-04f7-4b08-b321-b4300abab2b3',\n",
       " 'aa81500b-c6f0-4932-9ff3-26dcead802fc',\n",
       " '8b4c1782-9aa2-492c-a156-428ec5621859',\n",
       " '6b47ec88-df2d-461e-9f60-7962fe6bc57c',\n",
       " '3b3f3dae-91ab-4dfb-88a5-95e1e9355cb0',\n",
       " '4729fe9c-9ca4-42eb-9105-d8b66d30efa2',\n",
       " '05c81722-3592-4b14-9255-171c1f91e437',\n",
       " 'ff35fbd1-6846-49f1-ad6c-ab2693690362',\n",
       " '5aac4dbe-571c-46e4-883b-5022b20aff54',\n",
       " '1bc96595-2e5f-471e-93c3-4198f4c270fb',\n",
       " 'd407ff1e-fcb2-4a66-8145-3f0e223c915c',\n",
       " '527fdaaf-5fa4-4fa8-8ded-5b7f8547aecb',\n",
       " 'ad38c2df-942f-4327-885f-f616f18dd2cf',\n",
       " '85de1c10-fffe-4791-b6ae-6bfb5c00dac7',\n",
       " 'ff0dd7a2-5734-4207-8695-7edc0dcaaf27',\n",
       " 'cc5f43a4-9b7a-41c4-b8c9-0b21fe4d8b53',\n",
       " '1542b58c-16be-485a-8f62-9013c0dbebb0',\n",
       " 'fad2f286-e71c-4b1c-8c9c-533973868dfa',\n",
       " '7b6130fb-638d-4084-b800-ebc8121eaaaa',\n",
       " '22a63e80-8296-4775-9881-6c61119b2760',\n",
       " 'f353c0ef-f6ce-4e43-a27f-b18387156573',\n",
       " '44b9651c-db48-442c-a22c-63a5c8804a5f',\n",
       " '8d6abcd5-ad54-4b9e-9198-29b835659509',\n",
       " 'a19e3e28-c413-4dfa-a910-d3c7718d5176',\n",
       " '27637ec9-e841-4957-a381-d34e48e11532',\n",
       " '50a6b531-b7b2-4d9c-996f-5e370f177e45',\n",
       " 'bd513c33-ce4b-43ed-a73b-0181fe77f4df',\n",
       " '38631b9b-d2a5-45b3-b830-619e6016dbba',\n",
       " 'f6d504e0-b509-413f-ae83-2c2ff9ff08ef',\n",
       " '43f25d0f-53db-4a0e-9e78-7409bf017c66',\n",
       " 'abef4668-ee73-4f6b-b056-28e07c4a780e',\n",
       " '32865c3d-fe19-4d09-aafe-552a6a4c6452',\n",
       " '96799eae-1d93-440e-bb83-cd9030c8db88',\n",
       " '66566c2c-0239-45fd-86f9-3f85b3f7aa16',\n",
       " 'ac7eeb85-2ea6-41cc-886d-2e6b08969854',\n",
       " '0d698b32-652f-461b-a13c-db93063a1a1a',\n",
       " '2a91abe3-7a4e-4e4f-8b7c-e85f1b900a69',\n",
       " 'e1b5cafb-cef3-4c24-aef8-0986f0d6805d',\n",
       " '20205980-a916-42a0-8f1d-7ced711a90fb',\n",
       " '1be87383-1f17-45c7-94a3-bb33103676e8',\n",
       " '91769ce3-b8d7-4d0f-a2f5-478e644bb4d8',\n",
       " '6c769adc-a003-4e68-a6e1-73ddf2f3e8ea',\n",
       " '2a48a2e6-e83e-4d29-aa5d-5020c4b96084',\n",
       " '026c6f40-2c2b-4b0f-952f-4e8cdf11d9f2',\n",
       " '3955831c-48b0-457f-8857-93d0d78434cd',\n",
       " '3222ca2e-61a0-4270-aeea-25220975d9cd',\n",
       " '84fa1694-5cb1-434a-a31e-adb60aad6fe3',\n",
       " 'c520957e-baf8-4802-8638-266433dc94e3',\n",
       " '3ce86200-d285-4b98-8476-f702e85c06ba',\n",
       " '0bd4acdc-44a9-4b38-8978-47e2361b717e',\n",
       " '70ec9e31-f1dc-4281-bc1a-c39b1ed9f627',\n",
       " '9ff6dcbf-d478-42fe-a419-d2375d3cc9c8',\n",
       " '674339c7-339f-426d-8904-79d29b6904bb',\n",
       " '91a939b6-a20c-44e4-93db-afa7c64ac006',\n",
       " '24c187bf-e9fe-4595-b112-4e0406980b80',\n",
       " '26cb4077-5090-4ec6-b17b-ce473a5a23f7',\n",
       " 'a4f0d979-4151-4a56-a1b5-d581f81cc6f1',\n",
       " 'd8ead914-ce16-406c-89ad-eb50c859e178',\n",
       " '29844566-23a2-4ac2-9f17-b549ac7667af',\n",
       " '61d36722-8c69-49d6-a731-1aaa34d38c19',\n",
       " '4e95c2a7-06d5-4180-a4dc-facc10482599',\n",
       " '554743f4-2b33-49b7-a4e9-a35dc8246e3e',\n",
       " 'd385bfc7-b6c3-4521-b223-7a3513a54f87',\n",
       " '36cdacbd-82cc-4605-9267-b9297fe41fdf',\n",
       " '80bffc24-0165-45ac-b351-f63bf37f18b3',\n",
       " 'd3b3eddf-0d99-494e-ae86-77c1aa6bf9fd',\n",
       " 'ff88b8aa-316e-4067-8c1f-5606c2cda526',\n",
       " '068e98c8-969e-43b9-8efd-6da52ccbeabb',\n",
       " 'c62aebae-4ea0-4f35-b667-c1a8b74d0d90',\n",
       " '9ab0205c-fe57-40ff-95fc-f54658062522',\n",
       " '6dacebe2-67e8-46fb-a249-fa3a8fadea61',\n",
       " 'e101acc9-b397-42b8-a602-f04cf822b240',\n",
       " 'e9db3ba0-d603-4922-824d-d67b0a75e3e3',\n",
       " 'a06bf695-13e6-478c-aa66-904fc01a653f',\n",
       " '3feeb17f-de33-4499-bb09-eb0896ab001d',\n",
       " 'df326e96-2fde-486d-98c1-aeaba3ba2058',\n",
       " '5fb55d02-9236-4045-85e1-d04aa685941b',\n",
       " 'e61d0232-3a58-4065-afd5-32fe72fe94b2',\n",
       " '4291a6f1-67c8-43f5-b138-86273ae39179',\n",
       " '735a8c21-4da2-4dcf-8df8-16f4133689e3',\n",
       " '13b6922e-b824-454a-9287-7e0479fc57d7',\n",
       " 'a73164de-c2b6-484f-afff-16f548d966d2',\n",
       " '3e948b5f-73fc-4d22-a365-016402a3f353',\n",
       " '450cbca1-58b7-4b86-9a07-63cfce3211ed',\n",
       " 'dd29d597-9599-46b8-893e-475797e1661d',\n",
       " '06f88b60-8286-4e52-aa83-364ff2e3f4a3',\n",
       " 'c727c6e1-9b22-4d53-a86b-fc6ce0131cfe',\n",
       " 'dc9fecad-c9c9-41c4-af55-e0f7842dd57f',\n",
       " '88d6f09d-d90c-4286-81a5-7bb0b2cf58aa',\n",
       " 'a55a69d1-3aed-4c12-954b-f81083dd27ee',\n",
       " '72cb6a93-3385-4db9-ad16-d4f0cbab055d',\n",
       " '03c1ab8e-bb21-416f-a2ab-56e82a656d85',\n",
       " '576dc701-7186-45b0-a771-9997de79aa04',\n",
       " '15dca4c1-38aa-4bab-8173-db1612f2d8a5',\n",
       " '13556a87-f48d-48b0-9e25-63316e8bbf49',\n",
       " '140b5382-38f8-4c6b-bdeb-50fd9756f814',\n",
       " '2761916b-32d8-426d-8edf-06f86f1b698c',\n",
       " 'abc977ca-87ab-42b4-b458-f9a7e4f27f69',\n",
       " '0c45c580-4d67-49c1-9b55-2fad2df7a8c4',\n",
       " 'c0ea10ab-4e69-48c7-9633-149dfb94de87',\n",
       " '3aefce61-c545-4c10-8c21-3b9285e92042',\n",
       " 'c49deffc-5ccb-4d6c-9205-aa60db39efd5',\n",
       " '857b08a2-45c4-41ac-b6b5-806eba5a5b3c',\n",
       " 'ef5b82a8-f7da-4d48-b696-06660ce6c412',\n",
       " '511214f7-e88d-4ac4-8f51-6d79fa0ca25e',\n",
       " 'e2da04f3-1812-429b-806b-94c3a45a555b',\n",
       " '92e216eb-5367-42e6-b92c-c723f17c4a39',\n",
       " 'a6faa50c-24d9-4f9a-9920-125ab65b25ee',\n",
       " '70ba2c3e-c5fb-400e-91f0-ccb314addb43',\n",
       " '89250342-a1ae-40ed-a67b-f13b59bf3571',\n",
       " 'd4b15e80-ff14-4bda-a912-2c37bf5c1924',\n",
       " '3151ca03-c23e-4c27-8da8-443e3d8e59dd',\n",
       " '57df51d3-2d44-44a3-bab6-fd1613fa5c72',\n",
       " '9cb7d277-cd06-43fb-af9e-50fdc80b2c62',\n",
       " 'bd2d3f21-8921-4e52-a225-aaaae6bf4186',\n",
       " '3abd90ab-46a3-46fb-82f5-bdec2b47ebf3',\n",
       " 'e55e1ca2-af49-43b0-9422-ea37afc3167d',\n",
       " '1b79bf11-a110-49e7-8805-27271fb99816',\n",
       " '932d4bd3-6e0b-4e83-8ec7-56b8dd1e3a34',\n",
       " '8e4203e0-8cbb-4f5d-8bb9-b3b4bac83ddb',\n",
       " '8c4fbc10-f770-4ed2-89f5-ad2bfee87c19',\n",
       " '8b0f85ab-f17c-42b2-8b27-c969adc21974',\n",
       " 'fadfbfc9-f608-4fe5-96e3-55903af84a79',\n",
       " '9c0e3010-cbde-4f24-bee9-634d9754902f',\n",
       " 'ea60d4de-23d3-4232-9564-4ac2c351a530',\n",
       " '33f0c0b7-9491-4555-8f14-993a1da412be',\n",
       " 'e3fef8c4-d8c3-4f78-b677-01d9c842d408',\n",
       " '75e2d9a6-34c7-4803-93ae-02c115cbf502',\n",
       " '4e40457b-06de-4022-a511-4d6e84e7433e',\n",
       " '2e0d53e9-7016-437b-a962-210190301bee',\n",
       " '3ff0b54f-0b0f-4378-b06f-1a2d76900b4e',\n",
       " '86f3a08c-47f0-42e2-8d53-51cf6a77a2d2',\n",
       " 'a2b4b5a6-9a10-4fec-b6a2-8728db0f237e',\n",
       " '7673c54e-682c-47e3-b699-5f3047394cf4',\n",
       " '313035b0-261d-405c-9ca1-31fc6951410a',\n",
       " '9acd74f0-347e-400a-9e0c-b1f7b766d059',\n",
       " '11181d2f-c45d-4855-8bb6-3bbc162e2d83',\n",
       " '361bdeab-870a-443d-b9cc-5e3ed947be35',\n",
       " 'a7429f5c-8643-4990-a797-9b7fe8f2fe99',\n",
       " 'dd17ffac-8417-4541-a609-34f86c510f38',\n",
       " '76bb9bf8-3199-4b96-82f4-3584abb9e9a1',\n",
       " '49f26b2e-4f7e-4749-8049-d565d6ac58e3',\n",
       " 'd99a2662-b2b5-4962-8377-57480e919f6a',\n",
       " 'a6741818-86a3-4159-92e4-1969849e0832',\n",
       " '60fde5b3-443f-417d-a996-45c1b2101f2d',\n",
       " 'ce9bdefb-3da6-4158-80f5-869ce4bee86c',\n",
       " '08bc287a-74f9-46b6-b602-168b644500d7',\n",
       " '3edaf30c-d049-40ba-9037-40603e385942',\n",
       " 'f4545ddb-ae5e-49c8-ab0b-d7ce949183fb',\n",
       " '848e848b-6c9d-43bd-b570-608a9117fcb5',\n",
       " '07249f1f-88b3-43e9-a2e6-8d7e8fd536b9',\n",
       " '3510ea39-925b-41c6-8837-97b05ed4d01b',\n",
       " '69ebbefc-c3ef-4654-9f3a-93edffb02c47',\n",
       " '4b389fe8-808e-4ea3-b699-adb0c1955d0f',\n",
       " '0ae8c322-c017-4442-941f-64bc3fb6db2f',\n",
       " '9664ebec-168a-4fb9-a28c-0182628d1dbe',\n",
       " 'cc882867-8cba-4b6a-976d-1ac9f5eac6db',\n",
       " '9cbf1a0f-d83c-47cf-be33-a38aead5611e',\n",
       " 'cd7b92c3-b532-41df-9511-4d18b421e791',\n",
       " 'd72a1e62-2b20-41d4-9ed9-92c19d39f91b',\n",
       " 'c7c07433-bbf7-4e5c-8134-c1927bc1ce00',\n",
       " '153548e7-d325-453c-bdf3-54efa6ed21c1',\n",
       " '2afbdfd0-42c6-4734-a697-5a8f9f26ce3f',\n",
       " '5116f35b-9f0e-46bb-b3b9-00d41289069b',\n",
       " 'fb6a1767-4189-4899-a7d7-65ba0ef8e707',\n",
       " '3bfee62f-e4ee-449b-b07f-e1808b120c6c',\n",
       " '96ca59f1-ff94-4419-9c94-fce2fd2d5886',\n",
       " '98fa9304-52b0-43fb-bf66-7153f4dd9c72',\n",
       " 'bb5d2b4d-6cd0-46a2-a7c1-618655578070',\n",
       " '2e341d26-c594-4b7b-b6ce-ca3a5d196768',\n",
       " 'bcff9239-041b-4d52-894a-064fee08d5aa',\n",
       " 'c53cd1e5-56a4-46d6-a504-7cb4a0dfb897',\n",
       " '94de1d38-7b22-4c4b-a1d6-272576d26970',\n",
       " 'd6df9a1e-e131-4358-b12e-a8bce6bb1d4d',\n",
       " 'abfdf1b1-1af9-47d1-9d3c-1464f9ec7e8f',\n",
       " 'f4f641ec-b5cb-4fed-97a7-4ca9e6bc8bab',\n",
       " '59ad031a-30c9-4885-b557-4695e99d85d1',\n",
       " '15195218-ebf1-4e12-9353-65fe6eb0c506',\n",
       " '90387223-68f9-44f7-9cd0-de5e032cbeda',\n",
       " '653deeb1-b9a6-4bdf-a23b-9fd6cbdf7359',\n",
       " '416da4fd-0eb7-4be0-adfb-3a74cbbfd81c',\n",
       " 'f70ff008-5a5e-4d72-8dce-5e9e573d564e',\n",
       " '8c7d9ea1-1048-4603-ae0f-e2631ac6a468',\n",
       " 'c7237570-f29c-48ed-89e8-7e1a83d262f1',\n",
       " 'ab2c7e01-53cd-435a-bf1f-f83e1a33d79b',\n",
       " '04fba336-cff6-45a4-807c-fea78e7bcdfb',\n",
       " '9f21238c-2552-401e-ab25-f55ffc28edd3',\n",
       " 'b3c075b9-9680-4af8-8905-0307f4825c8c',\n",
       " '7a9a40f0-ae79-45d3-9e92-18e41f2a4376',\n",
       " 'ed5462f5-5249-402e-bade-a6209bf596d4',\n",
       " '36203bd7-963a-4a60-a750-128a29d613ec',\n",
       " 'a972aaba-d486-4479-83a8-375b7d9bb8a5',\n",
       " '4ebac5b4-2ee1-4b52-a6fc-1a8b51a1e729',\n",
       " '74abef8b-b69e-47b8-a2ae-037a1c82c144',\n",
       " 'b8204cdd-a998-4783-955d-ff1be6ee37a7',\n",
       " '28ebbcc6-c8a1-431d-a006-f3bc0d2111b0',\n",
       " '82a9cfd2-1179-45de-8e1e-1141592e0d8c',\n",
       " '52a5c997-c40b-40a5-aca2-43687d3194ed',\n",
       " '219185ad-2c3d-450a-8098-2d2a672086ce',\n",
       " 'd558c13a-cac3-4af8-830d-ff7ff988fd8f',\n",
       " 'eab372cc-d116-40b4-9169-c20eb139ee67',\n",
       " '2e0c328a-d664-446c-b4ed-f7332163ec4f',\n",
       " '1e0875db-7120-4017-9fab-8b2ed70f66cb',\n",
       " '22633aa8-483b-469a-bc28-52a481354582',\n",
       " 'c7b4fe85-2574-4748-bcf3-7b5b93e22e75',\n",
       " 'ec64f0d0-c4a0-4ca5-96b6-29076f09846d',\n",
       " '4b63810c-77fc-41d1-8fe0-2507965d4f5c',\n",
       " '2b225ef7-cf60-4ca8-a008-8e3860531045',\n",
       " 'a96d09ed-7f2c-4466-9b5d-728f73c957d5',\n",
       " '95686ae0-fd2c-42bb-9c10-2839b809cf57',\n",
       " '8cdac83c-d202-438f-a5c6-e269ca783094',\n",
       " '12ab1aac-44c0-4812-83bd-d579119ac1cb',\n",
       " '6f20cb71-e401-4178-96f4-68810539f1d9',\n",
       " 'bb030998-eefe-4d5e-bc4a-2a1ac5a644f5',\n",
       " 'dab0656e-03c0-403b-bd6b-cfe7a72f0df9',\n",
       " 'be72f06c-3e0b-48c5-9ae3-123ee55d2e63',\n",
       " '18d6d9c6-2176-474d-b772-626e1e11473b',\n",
       " '72f1b0bc-335f-4aa6-b032-1e51016f2209',\n",
       " '645bea61-09ca-4009-9f98-160da4e86e0a',\n",
       " '04ff4468-a3c6-44ce-baed-a5ff6d02a2ea',\n",
       " '522ebb6d-8cca-4926-8d7e-b656025d625d',\n",
       " 'f1fab17d-02c7-4d59-8d6f-5376d37f5637',\n",
       " '14243665-4a9c-485a-884a-e6da057cd916',\n",
       " 'f8d06877-6a12-4876-a11b-774694c7e7c4',\n",
       " '65db5135-720a-4ef7-9292-de5e3ad6513c',\n",
       " '9c8e6ceb-43ee-47dc-842b-50bf3bd3beab',\n",
       " '59c80c99-1a77-4969-a77c-eda2b58c8c9c',\n",
       " 'adb6f806-7217-4265-9ebd-4bfbd8361e18',\n",
       " '851fdcd1-d17b-436e-aff5-f19b4cfb8b87',\n",
       " '0cdafb24-4570-4def-8fcc-612dbeb39290',\n",
       " '5edf964d-5c9c-404b-8121-ea4e932597b1',\n",
       " '54049d3a-7708-42e5-a3e6-b7351c7c196a',\n",
       " 'a3d6b1c3-c618-4864-ac8e-aef2e597c5f1',\n",
       " 'f7c7f654-af89-49a9-9768-9541a92a4c71',\n",
       " '07bdf24f-72fa-4be6-92d0-18e72f519d92',\n",
       " '2146c42f-c122-4623-974e-fa03ad211a1d',\n",
       " '0fa5e020-3e95-4b59-b60e-d171d5b7e35b',\n",
       " 'ac15fd9d-5a7b-40eb-96bd-78f370d8bbba',\n",
       " '59d964bb-99d3-4b2f-a16a-12a3470336fa',\n",
       " 'aad8390b-a863-4752-92da-46cb8c01e247',\n",
       " 'aae91cbd-a5ee-4d40-bbb3-0803c0ac61d0',\n",
       " '78f210d2-a592-4c3e-9b09-4e6d1c6a6273',\n",
       " 'c69ae577-6e27-4e8a-8384-0aab2d595f37',\n",
       " '7fb3ed52-0daa-4a13-bc5a-928cdc79d268',\n",
       " '22c5a281-a991-40d9-8789-89da115ef589',\n",
       " '6240a614-da5a-4634-ab7e-23e0ead1c614',\n",
       " 'a99f32b8-5573-49e0-8421-ecd415cae098',\n",
       " '41939e36-54cb-4b97-a370-ee86967b7a45',\n",
       " '7deb5634-b9f1-45cf-b14d-3edfba14ee6b',\n",
       " 'f5c19edb-2d3a-4eab-880c-cd4db79dab41',\n",
       " '955fc567-bcec-448d-97a1-5252f1d37e8b']"
      ]
     },
     "execution_count": 43,
     "metadata": {},
     "output_type": "execute_result"
    }
   ],
   "source": [
    "import faiss\n",
    "from langchain_community.docstore.in_memory import InMemoryDocstore\n",
    "from langchain_community.vectorstores import FAISS\n",
    "\n",
    "index = faiss.IndexFlatIP(len(openai_embeddings[0]))\n",
    "\n",
    "vector_store = FAISS(\n",
    "    embedding_function=embeddings,\n",
    "    index=index,\n",
    "    docstore=InMemoryDocstore(),\n",
    "    index_to_docstore_id={},\n",
    ")\n",
    "\n",
    "vector_store.add_documents(documents=final_chunks)\n"
   ]
  },
  {
   "cell_type": "markdown",
   "metadata": {},
   "source": [
    "We can also save the vector store in persistent memory to use it later!"
   ]
  },
  {
   "cell_type": "code",
   "execution_count": 55,
   "metadata": {},
   "outputs": [],
   "source": [
    "vector_store.save_local(folder_path=\"../../Assets/Data\",index_name=\"CWC_index\")"
   ]
  },
  {
   "cell_type": "markdown",
   "metadata": {},
   "source": [
    "## Search and Retrieval Example"
   ]
  },
  {
   "cell_type": "markdown",
   "metadata": {},
   "source": [
    "As a glimpse of what happens next, this Vector Index can be used to retrieve documents that are most relevant to the query."
   ]
  },
  {
   "cell_type": "code",
   "execution_count": 54,
   "metadata": {},
   "outputs": [
    {
     "name": "stdout",
     "output_type": "stream",
     "text": [
      "The tournament was contested by ten national teams, maintaining the same format used in  2019 . After six weeks of round-robin matches,  India ,  South Africa ,  Australia , and  New Zealand  finished as the top four and qualified for the knockout stage. In the knockout stage, India and Australia beat New Zealand and South Africa, respectively, to advance to the final, played on 19 November at the  Narendra Modi Stadium  in  Ahmedabad . Australia won the final by six wickets, winning their sixth Cricket World Cup title.\n"
     ]
    }
   ],
   "source": [
    "# Original Question\n",
    "query = \"Who won the World Cup final?\"\n",
    "# Ranking the chunks in descending order of similarity\n",
    "docs = vector_store.similarity_search(query)\n",
    "# Printing the top ranked chunk\n",
    "print(docs[0].page_content)"
   ]
  },
  {
   "cell_type": "markdown",
   "metadata": {},
   "source": [
    "---"
   ]
  },
  {
   "cell_type": "markdown",
   "metadata": {},
   "source": [
    "This brings us at the end of Chapter 3. The four steps of loading, chunking, embedding and storing complete the indexing pipeline. Indexing pipeline is an __offline process__. The Vector Index needs to be created once and then updated at a periodic frequency.\n",
    "\n",
    "In Chapter 4, we will use this created index or knowledge base to handle real-time generations."
   ]
  },
  {
   "cell_type": "markdown",
   "metadata": {},
   "source": [
    "---"
   ]
  },
  {
   "cell_type": "markdown",
   "metadata": {},
   "source": [
    "<img src=\"../../Assets/Images/profile_s.png\" width=100> \n",
    "\n",
    "Hi! I'm Abhinav! I am an entrepreneur and Vice President of Artificial Intelligence at Yarnit. I have spent over 15 years consulting and leadership roles in data science, machine learning and AI. My current focus is in the applied Generative AI domain focussing on solving enterprise needs through contextual intelligence. I'm passionate about AI advancements constantly exploring emerging technologies to push the boundaries and create positive impacts in the world. Let’s build the future, together!\n",
    "\n",
    "[If you haven't already, please subscribe to the MEAP of A Simple Guide to Retrieval Augmented Generation here](https://mng.bz/8wdg)\n",
    "\n",
    "<a href=\"https://mng.bz/8wdg\" target=\"_blank\">\n",
    "    <img src=\"../../Assets/Images/NewMEAPFooter.png\" alt=\"New MEAP\" style=\"width: 100%;\" />\n",
    "</a>\n",
    "\n",
    "#### If you'd like to chat, I'd be very happy to connect\n",
    "\n",
    "[![GitHub followers](https://img.shields.io/badge/Github-000000?style=for-the-badge&logo=github&logoColor=black&color=orange)](https://github.com/abhinav-kimothi)\n",
    "[![LinkedIn](https://img.shields.io/badge/LinkedIn-000000?style=for-the-badge&logo=linkedin&logoColor=orange&color=black)](https://www.linkedin.com/comm/mynetwork/discovery-see-all?usecase=PEOPLE_FOLLOWS&followMember=abhinav-kimothi)\n",
    "[![Medium](https://img.shields.io/badge/Medium-000000?style=for-the-badge&logo=medium&logoColor=black&color=orange)](https://medium.com/@abhinavkimothi)\n",
    "[![Insta](https://img.shields.io/badge/Instagram-000000?style=for-the-badge&logo=instagram&logoColor=orange&color=black)](https://www.instagram.com/akaiworks/)\n",
    "[![Mail](https://img.shields.io/badge/email-000000?style=for-the-badge&logo=gmail&logoColor=black&color=orange)](mailto:abhinav.kimothi.ds@gmail.com)\n",
    "[![X](https://img.shields.io/badge/Follow-000000?style=for-the-badge&logo=X&logoColor=orange&color=black)](https://twitter.com/abhinav_kimothi)\n",
    "[![Linktree](https://img.shields.io/badge/Linktree-000000?style=for-the-badge&logo=linktree&logoColor=black&color=orange)](https://linktr.ee/abhinavkimothi)\n",
    "[![Gumroad](https://img.shields.io/badge/Gumroad-000000?style=for-the-badge&logo=gumroad&logoColor=orange&color=black)](https://abhinavkimothi.gumroad.com/)"
   ]
  }
 ],
 "metadata": {
  "kernelspec": {
   "display_name": ".sgrag",
   "language": "python",
   "name": "python3"
  },
  "language_info": {
   "codemirror_mode": {
    "name": "ipython",
    "version": 3
   },
   "file_extension": ".py",
   "mimetype": "text/x-python",
   "name": "python",
   "nbconvert_exporter": "python",
   "pygments_lexer": "ipython3",
   "version": "3.13.2"
  }
 },
 "nbformat": 4,
 "nbformat_minor": 4
}
